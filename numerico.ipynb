{
  "nbformat": 4,
  "nbformat_minor": 0,
  "metadata": {
    "colab": {
      "name": "numerico.ipynb",
      "provenance": [],
      "collapsed_sections": [],
      "toc_visible": true,
      "authorship_tag": "ABX9TyOaWIuXuTntkRc3B+ucfvq8",
      "include_colab_link": true
    },
    "kernelspec": {
      "name": "python3",
      "display_name": "Python 3"
    }
  },
  "cells": [
    {
      "cell_type": "markdown",
      "metadata": {
        "id": "view-in-github",
        "colab_type": "text"
      },
      "source": [
        "<a href=\"https://colab.research.google.com/github/bivar/numerico/blob/master/numerico.ipynb\" target=\"_parent\"><img src=\"https://colab.research.google.com/assets/colab-badge.svg\" alt=\"Open In Colab\"/></a>"
      ]
    },
    {
      "cell_type": "markdown",
      "metadata": {
        "id": "AwNpzEQtwndy",
        "colab_type": "text"
      },
      "source": [
        "# Cálculo Numérico - Atividade 2 \n",
        "\n",
        "Rebeca Bivar - 2016002387\n",
        "\n",
        "Ciência da Computação\n"
      ]
    },
    {
      "cell_type": "markdown",
      "metadata": {
        "id": "bhvozV5fugAr",
        "colab_type": "text"
      },
      "source": [
        "## Glossário\n",
        "  - f_linha: derivada da função f(x)\n",
        "  - phi: φ, função de iteração do met. das secantes\n",
        "  - cp: critério de parada ε\n",
        "\n",
        "## Referências\n",
        " - [Tutorial Newton-Raphsen e Secante](https://www.math.ubc.ca/~pwalls/math-python/roots-optimization/newton/)\n",
        " - [Tutorial Algoritmo Método da Secante](https://www.ime.unicamp.br/~valle/Teaching/MS211/Aula10.pdf)\n",
        " - [Tutorial derivadas com Python](https://phkonzen.github.io/notas/MiniCalcPy/3-derivada.html)"
      ]
    },
    {
      "cell_type": "markdown",
      "metadata": {
        "id": "otSJH55Lluta",
        "colab_type": "text"
      },
      "source": [
        "## Imports\n",
        "Bibliotecas utilizadas"
      ]
    },
    {
      "cell_type": "code",
      "metadata": {
        "id": "4ig0gLvb5EUf",
        "colab_type": "code",
        "colab": {}
      },
      "source": [
        "import numpy as np\n",
        "import math\n",
        "from sympy import *\n",
        "import matplotlib.pyplot as plt\n",
        "from prettytable import PrettyTable as pt\n"
      ],
      "execution_count": null,
      "outputs": []
    },
    {
      "cell_type": "markdown",
      "metadata": {
        "id": "DOA6aO8olycn",
        "colab_type": "text"
      },
      "source": [
        "## Visualização Gráfica\n"
      ]
    },
    {
      "cell_type": "code",
      "metadata": {
        "id": "c4zTd7qX5oE3",
        "colab_type": "code",
        "colab": {}
      },
      "source": [
        "# A função é: f(x) = -ke^x - 2x, onde k = 387 \n",
        "var('x,y')\n",
        "f = Lambda(x, (-387*math.e**x - 3*x))\n",
        "\n",
        "# Plotando a equação para definir o intervalo através da análise gráfica \n",
        "def plot_graph(y):\n",
        "  x = np.array(range(-10, 20))\n",
        "  #y = (-387*math.e**x - 3*x)\n",
        "  plt.plot(x,y)\n",
        "  plt.grid(alpha=.6,linestyle='--')\n",
        "  plt.show()\n",
        "\n",
        "\n",
        "#plot_graph() \n"
      ],
      "execution_count": null,
      "outputs": []
    },
    {
      "cell_type": "markdown",
      "metadata": {
        "id": "Adt5LTMnl4_u",
        "colab_type": "text"
      },
      "source": [
        "## Método da bisseção"
      ]
    },
    {
      "cell_type": "markdown",
      "metadata": {
        "id": "39B3vJ4Bl2Ne",
        "colab_type": "text"
      },
      "source": [
        "### Calculo do num de iterações"
      ]
    },
    {
      "cell_type": "code",
      "metadata": {
        "id": "eHeRf3VqYCPS",
        "colab_type": "code",
        "colab": {
          "base_uri": "https://localhost:8080/",
          "height": 34
        },
        "outputId": "939d6933-fcd7-4103-97ad-aab4007ca935"
      },
      "source": [
        "# O intervalo é [-4, -3.5]\n",
        "a = -4\n",
        "b = -3.5\n",
        "\n",
        "# Criterio de parada\n",
        "cp = 10**-4\n",
        "\n",
        "def num_iter(a, b):\n",
        "  n = (np.log(b - a) - np.log(cp))/np.log(2)\n",
        "  return math.ceil(n)\n",
        "\n",
        "n = num_iter(a,b)\n",
        "print(\"Numero de iterações = \", n)"
      ],
      "execution_count": null,
      "outputs": [
        {
          "output_type": "stream",
          "text": [
            "Numero de iterações =  13\n"
          ],
          "name": "stdout"
        }
      ]
    },
    {
      "cell_type": "markdown",
      "metadata": {
        "id": "24OlAq9Rj-y1",
        "colab_type": "text"
      },
      "source": [
        "### Algoritmo"
      ]
    },
    {
      "cell_type": "code",
      "metadata": {
        "id": "6eenhGOU5IDC",
        "colab_type": "code",
        "colab": {
          "base_uri": "https://localhost:8080/",
          "height": 478
        },
        "outputId": "9024f772-b5f8-42dc-f42c-94c19849bfbb"
      },
      "source": [
        "# Dados\n",
        "# O intervalo é [-4, -3.5]\n",
        "a = -4\n",
        "b = -3.5\n",
        "var('x,y')\n",
        "f = Lambda(x, (-387*math.e**x - 3*x))\n",
        "n = 13\n",
        "# Criterio de parada\n",
        "cp = 10**-4\n",
        "\n",
        "# Vetores para plotar na tabela\n",
        "a_tab = []\n",
        "b_tab = []\n",
        "xi_tab = []\n",
        "fxi_tab = []\n",
        "\n",
        "# Metodo da bisseção de refinamento da raíz aproximada\n",
        "def bissecao(f, a, b, cp, n):\n",
        "  i = 1\n",
        "  fa = f(a)\n",
        "  # Enquanto o numero de iterações for menor do que o num max calculado \n",
        "  while (i <= n):\n",
        "    a_tab.append(a)\n",
        "    b_tab.append(b)\n",
        "    # Calcula um xi\n",
        "    xi = a + (b-a)/2\n",
        "    print(\"xi = \", xi)\n",
        "    xi_tab.append(xi)\n",
        "    # Aplica na equação\n",
        "    fxi = f(xi)\n",
        "    fxi_tab.append(fxi)\n",
        "    # Se f(xi) = 0 ou o criterio de parada for atingido, pare\n",
        "    if ((fxi ==0) or ((b-a)/2 < cp)):\n",
        "      print(\"A raíz aproximada é\", xi, \", dentro do intervalo [\", a, \",\", b, \"]\"\n",
        "            , \"com\", i, \"iterações\")\n",
        "      return xi\n",
        "    # Se não, continue\n",
        "    i = i+1\n",
        "    if (fa * fxi > 0):\n",
        "      print(\"novo a = \", xi)\n",
        "      a = xi\n",
        "      fa = fxi\n",
        "    else:\n",
        "      print(\"novo b = \", xi)\n",
        "      b = xi\n",
        "\n",
        "  raise NameError(\"Numero max de iter. excedido\")\n",
        "\n",
        "xi = bissecao(f,a,b,cp,n)"
      ],
      "execution_count": null,
      "outputs": [
        {
          "output_type": "stream",
          "text": [
            "xi =  -3.75\n",
            "novo a =  -3.75\n",
            "xi =  -3.625\n",
            "novo a =  -3.625\n",
            "xi =  -3.5625\n",
            "novo b =  -3.5625\n",
            "xi =  -3.59375\n",
            "novo a =  -3.59375\n",
            "xi =  -3.578125\n",
            "novo b =  -3.578125\n",
            "xi =  -3.5859375\n",
            "novo a =  -3.5859375\n",
            "xi =  -3.58203125\n",
            "novo b =  -3.58203125\n",
            "xi =  -3.583984375\n",
            "novo a =  -3.583984375\n",
            "xi =  -3.5830078125\n",
            "novo b =  -3.5830078125\n",
            "xi =  -3.58349609375\n",
            "novo a =  -3.58349609375\n",
            "xi =  -3.583251953125\n",
            "novo b =  -3.583251953125\n",
            "xi =  -3.5833740234375\n",
            "novo b =  -3.5833740234375\n",
            "xi =  -3.58343505859375\n",
            "A raíz aproximada é -3.58343505859375 , dentro do intervalo [ -3.58349609375 , -3.5833740234375 ] com 13 iterações\n"
          ],
          "name": "stdout"
        }
      ]
    },
    {
      "cell_type": "markdown",
      "metadata": {
        "id": "EaeWx9Ynl8TW",
        "colab_type": "text"
      },
      "source": [
        "## Método de Newton-Raphson"
      ]
    },
    {
      "cell_type": "code",
      "metadata": {
        "id": "NJ0DDaeeaY4v",
        "colab_type": "code",
        "colab": {
          "base_uri": "https://localhost:8080/",
          "height": 272
        },
        "outputId": "e6bde339-15bf-4f86-c1cc-a4e046f2b2bd"
      },
      "source": [
        "# Calculo da derivada\n",
        "def calc_dif(f):\n",
        "  return diff(f(x),x)\n",
        "\n",
        "# Dados\n",
        "# O intervalo é [-4, -3.5]\n",
        "a = -4\n",
        "b = -3.5\n",
        "var('x,y')\n",
        "f = Lambda(x, (-387*math.e**x - 3*x))\n",
        "n = 13\n",
        "f_linha = calc_dif(f)\n",
        "f_linha = Lambda(x, f_linha)\n",
        "x0 = -3\n",
        "# Criterio de parada\n",
        "cp = 10**-4\n",
        "# Escolhendo um valor para iterações (não é o num max de iterações)\n",
        "n = 50\n",
        "\n",
        "# Vetores para a tabela\n",
        "xi_n_tab = []\n",
        "fxi_n_tab = []\n",
        "f_l_x_tab = []\n",
        "\n",
        "def newton_raphson(f, f_linha, x0, cp, n):\n",
        "  xi = x0\n",
        "  # Loop de iterações\n",
        "  for count in range(0, n):\n",
        "    fxi = float(f(xi))\n",
        "    print(\"F(xn) = \", fxi)\n",
        "    # Checando se atingiu o critério de parada:\n",
        "    # sendo ele f(xi) < epsilon\n",
        "    if(abs(fxi) < cp):\n",
        "      print(\"xn final = \", xi, \"foi encontrado com \", count, \"iterações\")\n",
        "      print(\"Temos que\", fxi, \"<\", cp)\n",
        "      fxi_n_tab.append(fxi)\n",
        "      f_l_x_tab.append(f_linha_xi)\n",
        "      xi_n_tab.append(xi)\n",
        "      return xi\n",
        "    f_linha_xi = float(f_linha(xi))\n",
        "    print(\"F'(xn) = \", f_linha_xi)\n",
        "    if(f_linha_xi == 0):\n",
        "      print(\"Não há derivada. Não há solução\")\n",
        "      return None\n",
        "    # Aplica a iteração de Newton-Raphson\n",
        "    xi = float(xi - (fxi/f_linha_xi))\n",
        "    print(\"xn = \", xi)\n",
        "    fxi_n_tab.append(fxi)\n",
        "    f_l_x_tab.append(f_linha_xi)\n",
        "    xi_n_tab.append(xi)\n",
        "  print(\"Aumente o num de iterações, não foi possível encontrar raíz com este\")\n",
        "  return None\n",
        "\n",
        "xi = newton_raphson(f,f_linha, x0, cp, n)"
      ],
      "execution_count": null,
      "outputs": [
        {
          "output_type": "stream",
          "text": [
            "F(xn) =  -10.267595458363349\n",
            "F'(xn) =  -22.26759545836335\n",
            "xn =  -3.4611003230035333\n",
            "F(xn) =  -1.7666407140416034\n",
            "F'(xn) =  -15.149941683052203\n",
            "xn =  -3.577710719993899\n",
            "F(xn) =  -0.07948786784538875\n",
            "F'(xn) =  -13.812620027827085\n",
            "xn =  -3.5834654477490426\n",
            "F(xn) =  -0.00017869723337149424\n",
            "F'(xn) =  -13.7505750404805\n",
            "xn =  -3.5834784433679783\n",
            "F(xn) =  -9.07807162775498e-10\n",
            "xn final =  -3.5834784433679783 foi encontrado com  4 iterações\n",
            "Temos que -9.07807162775498e-10 < 0.0001\n"
          ],
          "name": "stdout"
        }
      ]
    },
    {
      "cell_type": "markdown",
      "metadata": {
        "id": "LUrSpuT3l_jm",
        "colab_type": "text"
      },
      "source": [
        "## Método da Secante"
      ]
    },
    {
      "cell_type": "code",
      "metadata": {
        "id": "osOx_Dkbgnmw",
        "colab_type": "code",
        "colab": {
          "base_uri": "https://localhost:8080/",
          "height": 102
        },
        "outputId": "725e7fce-64c6-4f7f-c169-8cd78addb077"
      },
      "source": [
        "# Dados\n",
        "# O intervalo é [-4, -3.5]\n",
        "a = -4\n",
        "b = -3.5\n",
        "var('x,y')\n",
        "f = Lambda(x, (-387*math.e**x - 3*x))\n",
        "# Usando um 'n' aleatorio para iterações\n",
        "n = 50\n",
        "# Criterio de parada\n",
        "cp = 10**-4\n",
        "\n",
        "# Vetores para tabelas\n",
        "a_n_tab = []\n",
        "b_n_tab = []\n",
        "phi_tab = []\n",
        "f_phi_tab = []\n",
        "\n",
        "def secante(f, a, b, n, cp):\n",
        "  a_n = a\n",
        "  b_n = b\n",
        "  for count in range(1,n+1):\n",
        "    phi = float(a_n - f(a_n)*(b_n - a_n)/(f(b_n) - f(a_n)))\n",
        "    f_phi = f(phi) \n",
        "    a_n_tab.append(a_n)\n",
        "    b_n_tab.append(b_n)\n",
        "    phi_tab.append(phi)\n",
        "    f_phi_tab.append(f_phi)\n",
        "    # Checando se encontrou uma raíz exata ou se \n",
        "    # a distância entre o intervalo é menor que o \n",
        "    # critério de parada\n",
        "    if((f_phi == 0) or (np.abs((phi - b_n)/b_n) < cp)):\n",
        "      print(\"A raíz encontrada é: \", phi)\n",
        "      print(\"O método levou \", count, \"iterações\")\n",
        "      a_n_tab.append(a_n)\n",
        "      b_n_tab.append(b_n)\n",
        "      phi_tab.append(phi)\n",
        "      f_phi_tab.append(f_phi)\n",
        "      return phi\n",
        "    # Se não encontrou ainda, atualizo os valores de\n",
        "    # a e b\n",
        "    else:\n",
        "      a_n = b_n\n",
        "      b_n = phi    \n",
        "      print(\"a_n = \", a_n, \"|| b_n = \", b_n)\n",
        "  print(\"Aumente o num de iterações, não foi possível encontrar raíz com este\")\n",
        "  return None\n",
        "\n",
        "sec = secante(f, a, b, n, cp)"
      ],
      "execution_count": null,
      "outputs": [
        {
          "output_type": "stream",
          "text": [
            "a_n =  -3.5 || b_n =  -3.597273010819637\n",
            "a_n =  -3.597273010819637 || b_n =  -3.5839267143750004\n",
            "a_n =  -3.5839267143750004 || b_n =  -3.583476024175555\n",
            "A raíz encontrada é:  -3.5834784438579477\n",
            "O método levou  4 iterações\n"
          ],
          "name": "stdout"
        }
      ]
    },
    {
      "cell_type": "markdown",
      "metadata": {
        "id": "_CaF_nTUoa_H",
        "colab_type": "text"
      },
      "source": [
        "## Tabelas"
      ]
    },
    {
      "cell_type": "markdown",
      "metadata": {
        "id": "FbV3jHESrhJM",
        "colab_type": "text"
      },
      "source": [
        "### Tabela Bisseção"
      ]
    },
    {
      "cell_type": "code",
      "metadata": {
        "id": "FepKk_6_ocCt",
        "colab_type": "code",
        "colab": {
          "base_uri": "https://localhost:8080/",
          "height": 318
        },
        "outputId": "a88a1778-3b22-4ca2-b536-b9e59858a7df"
      },
      "source": [
        "bissec_tab = pt()\n",
        "bissec_tab.padding_width = 1\n",
        "bissec_tab.add_column(\"a\", a_tab)\n",
        "bissec_tab.add_column(\"b\", b_tab)\n",
        "bissec_tab.add_column(\"xi\", xi_tab)\n",
        "bissec_tab.add_column(\"f(xi)\", fxi_tab)\n",
        "\n",
        "print(bissec_tab.get_string(title= \"Metodo da Bisseção\"))\n",
        "#print(bissec_tab.get_html_string())\n"
      ],
      "execution_count": null,
      "outputs": [
        {
          "output_type": "stream",
          "text": [
            "+----------------+------------------+-------------------+-----------------------+\n",
            "|       a        |        b         |         xi        |         f(xi)         |\n",
            "+----------------+------------------+-------------------+-----------------------+\n",
            "|       -4       |       -3.5       |       -3.75       |    2.14863235372447   |\n",
            "|     -3.75      |       -3.5       |       -3.625      |   0.561799330830425   |\n",
            "|     -3.625     |       -3.5       |      -3.5625      |   -0.290844966038973  |\n",
            "|     -3.625     |     -3.5625      |      -3.59375     |   0.140673199368957   |\n",
            "|    -3.59375    |     -3.5625      |     -3.578125     |  -0.0737665032816306  |\n",
            "|    -3.59375    |    -3.578125     |     -3.5859375    |   0.0337806211889315  |\n",
            "|   -3.5859375   |    -3.578125     |    -3.58203125    |  -0.0199108028456454  |\n",
            "|   -3.5859375   |   -3.58203125    |    -3.583984375   |  0.00695540363487090  |\n",
            "|  -3.583984375  |   -3.58203125    |   -3.5830078125   |  -0.00647257098482790 |\n",
            "|  -3.583984375  |  -3.5830078125   |   -3.58349609375  |  0.000242697854185181 |\n",
            "| -3.58349609375 |  -3.5830078125   |  -3.583251953125  |  -0.00311461610480634 |\n",
            "| -3.58349609375 | -3.583251953125  |  -3.5833740234375 |  -0.00143587901996156 |\n",
            "| -3.58349609375 | -3.5833740234375 | -3.58343505859375 | -0.000596570557773290 |\n",
            "+----------------+------------------+-------------------+-----------------------+\n"
          ],
          "name": "stdout"
        }
      ]
    },
    {
      "cell_type": "markdown",
      "metadata": {
        "id": "OtoZDy7OuvQO",
        "colab_type": "text"
      },
      "source": [
        "### Tabela Newton"
      ]
    },
    {
      "cell_type": "code",
      "metadata": {
        "id": "_6_DRx6Io10b",
        "colab_type": "code",
        "colab": {
          "base_uri": "https://localhost:8080/",
          "height": 153
        },
        "outputId": "69a19acc-ed08-4bd8-d858-47bf921db4bb"
      },
      "source": [
        "newton_tab = pt()\n",
        "newton_tab.padding_width = 1\n",
        "newton_tab.add_column(\"xi\", xi_n_tab)\n",
        "newton_tab.add_column(\"f(xi)\", fxi_n_tab)\n",
        "newton_tab.add_column(\"f'(xi)\", f_l_x_tab)\n",
        "\n",
        "print(newton_tab)\n",
        "#print(newton_tab.get_html_string())\n"
      ],
      "execution_count": null,
      "outputs": [
        {
          "output_type": "stream",
          "text": [
            "+-------------------+-----------------------+--------------------+\n",
            "|         xi        |         f(xi)         |       f'(xi)       |\n",
            "+-------------------+-----------------------+--------------------+\n",
            "| 5.944134078212291 |         -160.0        |      -2864.0       |\n",
            "| 5.944592360951292 |   1.3344034007277514  | -2911.747022451508 |\n",
            "| 5.944592391731779 | 8.961295316112228e-05 | -2911.355939277775 |\n",
            "| 5.944592391731779 | 3.637978807091713e-12 | -2911.355939277775 |\n",
            "+-------------------+-----------------------+--------------------+\n"
          ],
          "name": "stdout"
        }
      ]
    },
    {
      "cell_type": "markdown",
      "metadata": {
        "id": "WLWhSUbou0hz",
        "colab_type": "text"
      },
      "source": [
        "### Tabela Secante"
      ]
    },
    {
      "cell_type": "code",
      "metadata": {
        "id": "tNkQQ6sNshcq",
        "colab_type": "code",
        "colab": {
          "base_uri": "https://localhost:8080/",
          "height": 187
        },
        "outputId": "be737a48-8ae8-45fa-e782-5400be50dc4c"
      },
      "source": [
        "sec_tab = pt()\n",
        "sec_tab.padding_width = 1\n",
        "sec_tab.add_column(\"xk\", a_n_tab)\n",
        "sec_tab.add_column(\"xk+1\", b_n_tab)\n",
        "sec_tab.add_column(\"phi\", phi_tab)\n",
        "sec_tab.add_column(\"f(phi)\", f_phi_tab)\n",
        "\n",
        "print(sec_tab)\n",
        "#print(sec_tab.get_html_string())"
      ],
      "execution_count": null,
      "outputs": [
        {
          "output_type": "stream",
          "text": [
            "+-------------------+-------------------+-------------------+---------------------+\n",
            "|         xk        |        xk+1       |        phi        |        f(phi)       |\n",
            "+-------------------+-------------------+-------------------+---------------------+\n",
            "|         5         |        7.5        | 6.186239620403321 |  -678.492127733065  |\n",
            "|        7.5        | 6.186239620403321 | 5.865882540200262 |   231.792075935282  |\n",
            "| 6.186239620403321 | 5.865882540200262 | 5.947457319111715 |  -8.33732090615376  |\n",
            "| 5.865882540200262 | 5.947457319111715 | 5.944625033191793 | -0.0950304529942514 |\n",
            "| 5.947457319111715 | 5.944625033191793 | 5.944592378019604 | 3.99210221075919e-5 |\n",
            "| 5.947457319111715 | 5.944625033191793 | 5.944592378019604 | 3.99210221075919e-5 |\n",
            "+-------------------+-------------------+-------------------+---------------------+\n"
          ],
          "name": "stdout"
        }
      ]
    },
    {
      "cell_type": "markdown",
      "metadata": {
        "id": "IhsVN1vaLEwO",
        "colab_type": "text"
      },
      "source": [
        "## Questão 1"
      ]
    },
    {
      "cell_type": "code",
      "metadata": {
        "id": "NvCxxlDTvpoD",
        "colab_type": "code",
        "colab": {}
      },
      "source": [
        ""
      ],
      "execution_count": null,
      "outputs": []
    },
    {
      "cell_type": "markdown",
      "metadata": {
        "id": "cK1FkpnFLNFT",
        "colab_type": "text"
      },
      "source": [
        "## Questão 2\n"
      ]
    },
    {
      "cell_type": "code",
      "metadata": {
        "id": "K3GQHnm0LC8u",
        "colab_type": "code",
        "colab": {
          "base_uri": "https://localhost:8080/",
          "height": 265
        },
        "outputId": "a4d5b57d-40f9-438d-b009-72dacb8c6ea0"
      },
      "source": [
        "var('x,y')\n",
        "f = Lambda(y, (y**4 - 16*y**3 +500*y**2 - 8000*y + 32000))\n",
        "\n",
        "# Plotando a equação para definir o intervalo através da análise gráfica \n",
        "def plot_graph():\n",
        "  x = np.array(range(-5, 15))\n",
        "  y = (x**4 - 16*x**3 +500*x**2 - 8000*x + 32000)\n",
        "  plt.plot(x,y)\n",
        "  plt.grid(alpha=.6,linestyle='--')\n",
        "  plt.show()\n",
        "\n",
        "\n",
        "plot_graph() "
      ],
      "execution_count": null,
      "outputs": [
        {
          "output_type": "display_data",
          "data": {
            "image/png": "[encoded data removed]",
            "text/plain": [
              "<Figure size 432x288 with 1 Axes>"
            ]
          },
          "metadata": {
            "tags": [],
            "needs_background": "light"
          }
        }
      ]
    },
    {
      "cell_type": "code",
      "metadata": {
        "id": "1SNsP7YFM8S7",
        "colab_type": "code",
        "colab": {
          "base_uri": "https://localhost:8080/",
          "height": 221
        },
        "outputId": "38230527-0c39-45d1-997d-9f84bd3ba401"
      },
      "source": [
        "\n",
        "# Dados\n",
        "# O intervalo é [5, 7.5]\n",
        "a = 5\n",
        "b = 7.5\n",
        "var('x,y')\n",
        "f = Lambda(x, (x**4 - 16*x**3 +500*x**2 - 8000*x + 32000))\n",
        "f_linha = calc_dif(f)\n",
        "f_linha = Lambda(x, f_linha)\n",
        "x0 = 6\n",
        "# Criterio de parada\n",
        "cp = 10**-5\n",
        "# Escolhendo um valor para iterações (não é o num max de iterações)\n",
        "n = 150\n",
        "\n",
        "# Vetores para a tabela\n",
        "xi_n_tab = []\n",
        "fxi_n_tab = []\n",
        "f_l_x_tab = []\n",
        "\n",
        "# Calculando o y aproximado pelo metodo de newton\n",
        "y_aprox = newton_raphson(f, f_linha, x0, cp, n)"
      ],
      "execution_count": null,
      "outputs": [
        {
          "output_type": "stream",
          "text": [
            "F(xn) =  -160.0\n",
            "F'(xn) =  -2864.0\n",
            "xn =  5.944134078212291\n",
            "F(xn) =  1.3344034007277514\n",
            "F'(xn) =  -2911.747022451508\n",
            "xn =  5.944592360951292\n",
            "F(xn) =  8.961295316112228e-05\n",
            "F'(xn) =  -2911.355939277775\n",
            "xn =  5.944592391731779\n",
            "F(xn) =  3.637978807091713e-12\n",
            "xn final =  5.944592391731779 foi encontrado com  3 iterações\n",
            "Temos que 3.637978807091713e-12 < 1e-05\n"
          ],
          "name": "stdout"
        }
      ]
    },
    {
      "cell_type": "code",
      "metadata": {
        "id": "D0Zp-EJpQn7w",
        "colab_type": "code",
        "colab": {
          "base_uri": "https://localhost:8080/",
          "height": 119
        },
        "outputId": "cef6ffbe-990b-47cc-8811-1aeee420382b"
      },
      "source": [
        "# Dados\n",
        "# O intervalo é [-4, -3.5]\n",
        "a = 5\n",
        "b = 7.5\n",
        "var('x,y')\n",
        "f = Lambda(x, (x**4 - 16*x**3 +500*x**2 - 8000*x + 32000))\n",
        "# Usando um 'n' aleatorio para iterações\n",
        "n = 150\n",
        "# Criterio de parada\n",
        "cp = 10**-5\n",
        "\n",
        "# Vetores para tabelas\n",
        "a_n_tab = []\n",
        "b_n_tab = []\n",
        "phi_tab = []\n",
        "f_phi_tab = []\n",
        "\n",
        "# Calculando o y aproximado pelo metodo da secante\n",
        "y_aprox_sec = secante(f,a,b,n,cp)"
      ],
      "execution_count": null,
      "outputs": [
        {
          "output_type": "stream",
          "text": [
            "a_n =  7.5 || b_n =  6.186239620403321\n",
            "a_n =  6.186239620403321 || b_n =  5.865882540200262\n",
            "a_n =  5.865882540200262 || b_n =  5.947457319111715\n",
            "a_n =  5.947457319111715 || b_n =  5.944625033191793\n",
            "A raíz encontrada é:  5.944592378019604\n",
            "O método levou  5 iterações\n"
          ],
          "name": "stdout"
        }
      ]
    },
    {
      "cell_type": "code",
      "metadata": {
        "id": "ccU7-VF4SPlP",
        "colab_type": "code",
        "colab": {
          "base_uri": "https://localhost:8080/",
          "height": 51
        },
        "outputId": "9c368367-5260-41e8-c14c-fd78d4d9a123"
      },
      "source": [
        "# Calcular largura da rua \n",
        "x_new = sqrt(400 - (y_aprox**2))\n",
        "x_sec = sqrt(400 - (y_aprox_sec**2))\n",
        "\n",
        "print(\"A largura da rua pelo método de newton é de \", x_new, \"m\")\n",
        "print(\"A largura da rua pelo método das secantes é de \", x_sec, \"m\")"
      ],
      "execution_count": null,
      "outputs": [
        {
          "output_type": "stream",
          "text": [
            "A largura da rua pelo método de newton é de  19.0961205823634 m\n",
            "A largura da rua pelo método das secantes é de  19.0961205866320 m\n"
          ],
          "name": "stdout"
        }
      ]
    },
    {
      "cell_type": "code",
      "metadata": {
        "id": "ImmL5bZtTRZD",
        "colab_type": "code",
        "colab": {}
      },
      "source": [
        ""
      ],
      "execution_count": null,
      "outputs": []
    }
  ]
}