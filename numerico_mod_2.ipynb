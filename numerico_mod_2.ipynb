{
  "nbformat": 4,
  "nbformat_minor": 0,
  "metadata": {
    "colab": {
      "name": "prova numerico - mod 2",
      "provenance": [],
      "collapsed_sections": [
        "ULX4YcvXUhjD",
        "zxtmiC1mcKoS"
      ],
      "authorship_tag": "ABX9TyPQZ51wtpGePeIIcPzBOC9B",
      "include_colab_link": true
    },
    "kernelspec": {
      "name": "python3",
      "display_name": "Python 3"
    }
  },
  "cells": [
    {
      "cell_type": "markdown",
      "metadata": {
        "id": "view-in-github",
        "colab_type": "text"
      },
      "source": [
        "<a href=\"https://colab.research.google.com/github/bivar/numerico/blob/master/numerico_mod_2.ipynb\" target=\"_parent\"><img src=\"https://colab.research.google.com/assets/colab-badge.svg\" alt=\"Open In Colab\"/></a>"
      ]
    },
    {
      "cell_type": "markdown",
      "metadata": {
        "id": "nStd41iD32Xl",
        "colab_type": "text"
      },
      "source": [
        "\n",
        "# TO-DO \n",
        "1. Newton p sistemas não lineares\n",
        "2. Interpolação\n",
        "3. Pol de Lagrange  \n",
        "4. Pol de Newton\n",
        "\n"
      ]
    },
    {
      "cell_type": "code",
      "metadata": {
        "id": "l-lHCs4e5-2N",
        "colab_type": "code",
        "colab": {
          "base_uri": "https://localhost:8080/",
          "height": 261
        },
        "outputId": "11bc6997-d8cb-4029-d209-5cfb15fa5fd5"
      },
      "source": [
        "!python -m pip install scipy\n",
        "!pip install matrix"
      ],
      "execution_count": null,
      "outputs": [
        {
          "output_type": "stream",
          "text": [
            "Requirement already satisfied: scipy in /usr/local/lib/python3.6/dist-packages (1.4.1)\n",
            "Requirement already satisfied: numpy>=1.13.3 in /usr/local/lib/python3.6/dist-packages (from scipy) (1.18.5)\n",
            "Collecting matrix\n",
            "  Downloading https://files.pythonhosted.org/packages/45/aa/93fb05f2c12279f758f63fc45790168197abf3ec4ecd2162b31176cacfc3/matrix-2.0.1-py2.py3-none-any.whl\n",
            "Collecting configparser2>=4.0.0\n",
            "  Downloading https://files.pythonhosted.org/packages/15/7d/23899ba6f88302c5619a2e81529c5944ccdf5becfe5b72bc6b97449cdf8b/configparser2-4.0.0.tar.gz\n",
            "Building wheels for collected packages: configparser2\n",
            "  Building wheel for configparser2 (setup.py) ... \u001b[?25l\u001b[?25hdone\n",
            "  Created wheel for configparser2: filename=configparser2-4.0.0-cp36-none-any.whl size=20389 sha256=7d02ea816367b104134b46c0abe359a5a7e14efb4f12bf6e602a7fe3847f9749\n",
            "  Stored in directory: /root/.cache/pip/wheels/ae/9a/da/aded1f1ec0cec163277c62e1ffb6841fb8c88c8356cd6280d9\n",
            "Successfully built configparser2\n",
            "Installing collected packages: configparser2, matrix\n",
            "Successfully installed configparser2-4.0.0 matrix-2.0.1\n"
          ],
          "name": "stdout"
        }
      ]
    },
    {
      "cell_type": "markdown",
      "metadata": {
        "id": "8gUSHpylogrs",
        "colab_type": "text"
      },
      "source": [
        "# Métodos Numéricos - Módulo 2"
      ]
    },
    {
      "cell_type": "markdown",
      "metadata": {
        "id": "dCRDkh5Iokub",
        "colab_type": "text"
      },
      "source": [
        "## Imports"
      ]
    },
    {
      "cell_type": "markdown",
      "metadata": {
        "id": "YwJkA7pmQrov",
        "colab_type": "text"
      },
      "source": [
        "[LU](https://sites.google.com/site/cnumer3q16/atividade3#:~:text=Um%20c%C3%B3digo%20em%20Python%20para,de%20colunas%20em%20uma%20linha.&text=O%20m%C3%A9todo%20de%20Decomposi%C3%A7%C3%A3o%20%C3%A9%20baseado%20na%20resolu%C3%A7%C3%A3o%20de%20sistemas%20triangulares)\n",
        "\n",
        "[Cholesky](https://www.quantstart.com/articles/Cholesky-Decomposition-in-Python-and-NumPy/)\n",
        "\n",
        "[Jacobi](https://www.quantstart.com/articles/Jacobi-Method-in-Python-and-NumPy/)\n",
        "\n",
        "[Jacobi e Gauss Seidel](https://www.ufrgs.br/reamat/CalculoNumerico/livro-py/sdsl-metodos_iterativos_para_sistemas_lineares.html)"
      ]
    },
    {
      "cell_type": "code",
      "metadata": {
        "id": "5AinBoXCrazV",
        "colab_type": "code",
        "colab": {}
      },
      "source": [
        "import numpy as np\n",
        "import sympy as sp\n",
        "import scipy.linalg\n",
        "import matplotlib as plt\n",
        "from __future__ import division\n",
        "from prettytable import PrettyTable\n",
        "from numpy.linalg import norm\n",
        "from numpy import array, zeros, diag, diagflat, dot\n",
        "from copy import deepcopy\n",
        "from pprint import pprint"
      ],
      "execution_count": null,
      "outputs": []
    },
    {
      "cell_type": "markdown",
      "metadata": {
        "id": "56MYan_GIKku",
        "colab_type": "text"
      },
      "source": [
        "## Fatoração LU \n"
      ]
    },
    {
      "cell_type": "code",
      "metadata": {
        "id": "b5W9olnTIP7h",
        "colab_type": "code",
        "colab": {
          "base_uri": "https://localhost:8080/",
          "height": 448
        },
        "outputId": "e0520c75-12a8-4b09-b5be-80efe2e561ab"
      },
      "source": [
        "def LU(A, b):\n",
        "    #DOOLITTLE METHOD - lower matrix has its diagonal all as 1s\n",
        "    permut, lower, upper = scipy.linalg.lu(A)\n",
        "    # Multiplication factors\n",
        "    # ------ LEMBRETE ----- #\n",
        "    # Adicionar os demais   #\n",
        "    # valores de m, a       #\n",
        "    # depender do tam da    #\n",
        "    # matriz A              #\n",
        "    # --------------------- #\n",
        "    '''\n",
        "    m21 = lower[1,0]\n",
        "    m31 = lower[2,0]\n",
        "    m32 = lower[2,1]    \n",
        "    m_values = PrettyTable()\n",
        "    m_values.field_names = [\"m_21\", \"m_31\", \"m_32\"]\n",
        "    m_values.add_row([m21, m31, m32])\n",
        "    print(m_values, \"\\n\")    \n",
        "    '''\n",
        "    #Regra 1: Ly = b\n",
        "    y = scipy.linalg.solve(lower, b)\n",
        "    #print(\"Y = \", y,\"\\n\")\n",
        "    #Regra 2: Ux = y\n",
        "    x = scipy.linalg.solve(upper, y)\n",
        "    #print(\"X = \", x, \"\\n\")\n",
        "    return lower, upper, x\n",
        "    \n",
        "\n",
        "# ----- Questão Teste ----- #\n",
        "\n",
        "a = np.array([[8.0,4.0,-1.0], \n",
        "             [-2.0,5.0,1.0], \n",
        "             [2.0,-1.0,6.0]])\n",
        "\n",
        "b1 = np.array([11.0, 4.0, 7.0])\n",
        "\n",
        "\n",
        "\n",
        "\n",
        "# --- Q1 PROVA ---- #\n",
        "\n",
        "A = np.array([[0.7071,1.0,0.0,0.0,0.0,0.0,0.0,0.0,0.0,0.0,0.0,0.0,0.0],\n",
        "      [0.0,-1.0,0.0,0.0,0.0,1.0,0.0,0.0,0.0,0.0,0.0,0.0,0.0],\n",
        "      [0.0,0.0,1.0,0.0,0.0,0.0,0.0,0.0,0.0,0.0,0.0,0.0,0.0],\n",
        "      [-0.7071,0.0,0.0,1.0,0.6585,0.0,0.0,0.0,0.0,0.0,0.0,0.0,0.0],\n",
        "      [0.7071,0.0,1.0,0.0,0.7526,0.0,0.0,0.0,0.0,0.0,0.0,0.0,0.0],\n",
        "      [0.0,0.0,0.0,-1.0,0.0,0.0,1.0,0.6585,0.0,0.0,0.0,0.0,0.0],\n",
        "      [0.0,0.0,0.0,0.0,0.0,0.0,0.0,0.7526,1.0,0.0,0.0,0.0,0.0],\n",
        "      [0.0,0.0,0.0,0.0,-0.6585,-1.0,0.0,0.0,0.0,1.0,0.0,0.0,0.0],\n",
        "      [0.0,0.0,0.0,0.0,0.7526,0.0,0.0,0.0,1.0,0.0,0.0,0.0,0.0],\n",
        "      [0.0,0.0,0.0,0.0,0.0,0.0,-1.0,0.0,0.0,0.0,0.7071,0.0,0.0],\n",
        "      [0.0,0.0,0.0,0.0,0.0,0.0,0.0,0.0,0.0,0.0,0.7071,1.0,0.0],\n",
        "      [0.0,0.0,0.0,0.0,0.0,0.0,0.0,0.7526,0.0,0.0,0.0,1.0,0.0],\n",
        "      [0.0,0.0,0.0,0.0,0.0,0.0,0.0,0.0,0.0,0.0,0.7071,0.0,1.0]])\n",
        "\n",
        "b = np.array([0.0,0.0,2000.0,0.0,-1000.0,0.0,-500.0,0.0,4000.0,0.0,-500.0,2000.0,0.0])\n",
        "print(\"AQUI\", A.shape, b.shape)\n",
        "\n",
        "\n",
        "lower, upper, x = LU(A,b)\n",
        "\n",
        "print(\"# ------ VETOR B ------ #\\n\")\n",
        "print(b)\n",
        "\n",
        "F = x.tolist()\n",
        "print(\"\\n# ------ VETOR F ------ #\\n\")\n",
        "for f in F:\n",
        "  print(f)\n",
        "\n",
        "fmax = abs(max(F, key=abs))\n",
        "print(\"\\n# ------ || F ||∞ = \", fmax, \" ------ #\")"
      ],
      "execution_count": null,
      "outputs": [
        {
          "output_type": "stream",
          "text": [
            "AQUI (13, 13) (13,)\n",
            "# ------ VETOR B ------ #\n",
            "\n",
            "[    0.     0.  2000.     0. -1000.     0.  -500.     0.  4000.     0.\n",
            "  -500.  2000.     0.]\n",
            "\n",
            "# ------ VETOR F ------ #\n",
            "\n",
            "-6882.56866701081\n",
            "4866.664304443343\n",
            "2000.0\n",
            "-6499.933563646029\n",
            "2480.287409571277\n",
            "4866.664304443343\n",
            "-4633.335695556659\n",
            "-2834.6209082602422\n",
            "2133.3356955566583\n",
            "5999.933563646028\n",
            "-6552.589019313617\n",
            "4133.335695556659\n",
            "4633.335695556659\n",
            "\n",
            "# ------ || F ||∞ =  6882.56866701081  ------ #\n"
          ],
          "name": "stdout"
        }
      ]
    },
    {
      "cell_type": "code",
      "metadata": {
        "id": "BvA0-S4lbFju",
        "colab_type": "code",
        "colab": {
          "base_uri": "https://localhost:8080/",
          "height": 354
        },
        "outputId": "8affcf4a-810b-4d52-f2c1-f7afb51029a5"
      },
      "source": [
        "\n",
        "A = [[0.7071, 1.0, 0.0, 0.0, 0.0, 0.0, 0.0, 0.0, 0.0, 0.0, 0.0, 0.0, 0.0,0.0],\n",
        "    [0.0, -1.0, 0.0, 0.0, 0.0, 1.0, 0.0, 0.0, 0.0, 0.0, 0.0, 0.0, 0.0, 0.0],\n",
        "    [0.0, 0.0, 1.0, 0.0, 0.0, 0.0, 0.0, 0.0, 0.0, 0.0, 0.0, 0.0, 0.0, 2000.0],\n",
        "    [-0.7071, 0.0, 0.0, 1.0, 0.6585, 0.0, 0.0, 0.0, 0.0, 0.0, 0.0 ,0.0, 0.0, 0.0],\n",
        "    [0.7071, 0.0, 1.0, 0.0, 0.7526, 0.0, 0.0, 0.0, 0.0, 0.0, 0.0, 0.0, 0.0, -1000],\n",
        "    [0.0, 0.0, 0.0, -1.0, 0.0, 0.0, 1.0, 0.6585, 0.0, 0.0, 0.0, 0.0, 0.0, 0.0],\n",
        "    [0.0, 0.0, 0.0, 0.0, 0.0, 0.0, 0.0, 0.7526, 1.0, 0.0, 0.0, 0.0, 0.0, -500.0],\n",
        "    [0.0, 0.0, 0.0, 0.0, -0.6585, -1.0, 0.0, 0.0, 0.0, 1.0, 0.0, 0.0, 0.0, 0.0],\n",
        "    [0.0, 0.0, 0.0, 0.0, 0.7526, 0.0, 0.0, 0.0, 1.0, 0.0, 0.0, 0.0, 0.0, 4000.0],\n",
        "    [0.0, 0.0, 0.0, 0.0, 0.0, 0.0, -1.0, 0.0, 0.0, 0.0, 0.7071, 0.0, 0.0, 0.0],\n",
        "    [0.0, 0.0, 0.0, 0.0, 0.0, 0.0, 0.0, 0.0, 0.0, 0.0, 0.7071, 1.0, 0.0, -500.0],\n",
        "    [0.0, 0.0, 0.0, 0.0, 0.0, 0.0, 0.0, 0.7526, 0.0, 0.0, 0.0, 1.0, 0.0, 2000.0],\n",
        "    [0.0, 0.0, 0.0, 0.0, 0.0, 0.0, 0.0, 0.0, 0.0, 0.0, 0.7071, 0.0, 1.0, 0.0]]\n",
        "\n",
        "def gaussian_elimination_with_pivot(A):   \n",
        "  n = len(A)\n",
        "  for i in range(n):\n",
        "    # Determinação do pivo atual\n",
        "    # Pivo sendo maior valor da linha\n",
        "    pivot(A, n, i)\n",
        "    for j in range(i+1, n):\n",
        "      A[j] = [A[j][k] - A[i][k]* float (A[j][i])/float(A[i][i]) for k in range(n+1)]\n",
        "  #Substituição de trás pra frente \n",
        "  x = [0] * n\n",
        "  for i in range(n-1, -1, -1):\n",
        "    s = sum(A[i][j] * x[j] for j in range(i, n))\n",
        "    x[i] = (A[i][n] - s) / A[i][i]\n",
        "  return x\n",
        "\n",
        "\n",
        "# Função auxiliar, pega o maior valor da linha\n",
        "def pivot(A, n, i):\n",
        "  max_row = max(range(i, n), key=lambda r: abs(A[r][i]))\n",
        "  A[i], A[max_row] = A[max_row], A[i]\n",
        "\n",
        "\n",
        "F = gaussian_elimination_with_pivot(A)\n",
        "print(\"\\n# ------ VETOR F ------ #\\n\")\n",
        "for f in F:\n",
        "  print(f)\n",
        "\n",
        "fmax = abs(max(F, key=abs))\n",
        "print(\"\\n# ------ || F ||∞ = \", fmax, \" ------ #\")"
      ],
      "execution_count": null,
      "outputs": [
        {
          "output_type": "stream",
          "text": [
            "\n",
            "# ------ VETOR F ------ #\n",
            "\n",
            "-7236.125448229872\n",
            "5116.664304443342\n",
            "2000.0\n",
            "-6968.67525910178\n",
            "2812.4691794357454\n",
            "5116.664304443342\n",
            "-4883.335695556659\n",
            "-3166.8026781247117\n",
            "1883.3356955566583\n",
            "6968.675259101781\n",
            "-6906.145800532681\n",
            "4383.335695556659\n",
            "4883.335695556659\n",
            "\n",
            "# ------ || F ||∞ =  7236.125448229872  ------ #\n"
          ],
          "name": "stdout"
        }
      ]
    },
    {
      "cell_type": "markdown",
      "metadata": {
        "id": "ULX4YcvXUhjD",
        "colab_type": "text"
      },
      "source": [
        "## Cholesky\n"
      ]
    },
    {
      "cell_type": "code",
      "metadata": {
        "id": "yW-GAlb6Uj9x",
        "colab_type": "code",
        "colab": {
          "base_uri": "https://localhost:8080/",
          "height": 54
        },
        "outputId": "5ce69614-e35f-4413-bd27-875e337ddd0b"
      },
      "source": [
        "def sylvester(A):\n",
        "  is_pos_def = np.all(np.linalg.eigvals(A) > 0)\n",
        "  if(is_pos_def):\n",
        "    print(\"Satisfaz o critério de Sylvester\\n\")\n",
        "  else:\n",
        "    print(\"Não satisfaz o critério de Sylvester\\n\")\n",
        "\n",
        "def cholesky(A, b):  \n",
        "  G = scipy.linalg.cholesky(A, lower=True)\n",
        "  G_t = scipy.linalg.cholesky(A, lower=False)\n",
        "  # values of G\n",
        "  # ------ LEMBRETE ----- #\n",
        "  # Adicionar os demais   #\n",
        "  # valores de G, a       #\n",
        "  # depender do tam da    #\n",
        "  # matriz A              #\n",
        "  # --------------------- #\n",
        "  g_11 = G[0,0]\n",
        "  g_21 = G[1,0]\n",
        "  g_22 = G[1,1]\n",
        "  g_31 = G[2,0]\n",
        "  g_32 = G[2,1]\n",
        "  g_33 = G[2,2]\n",
        "  g_values = PrettyTable()\n",
        "  g_values.field_names = [\"g_11\", \"g_21\", \"g_22\", \"g_31\", \"g_32\", \"g_33\"]\n",
        "  g_values.add_row([g_11, g_21, g_22, g_31, g_32, g_33])\n",
        "  print(g_values, \"\\n\")\n",
        "  #Regra 1: Gy = b\n",
        "  y = scipy.linalg.solve(G, b)\n",
        "  print(\"Y = [\", y, \"]\", \"\\n\")\n",
        "  #Regra 2: G_tx = y\n",
        "  x = scipy.linalg.solve_triangular(G_t, y)\n",
        "  print(\"X = [\", x, \"]\", \"\\n\")\n",
        "  return G, G_t\n",
        "\n",
        "# ----- TESTE ----#\n",
        "'''\n",
        "A = np.array([[2.0,-1.0,0.0],\n",
        "              [-1.0,2.0,-1.0],\n",
        "              [0.0,-1.0,2.0]])\n",
        "\n",
        "B = A = np.array([[8.0,20.0,15.0],\n",
        "              [20.0,80.0,50.0],\n",
        "              [15.0,50.0,60.0]])\n",
        "\n",
        "'''\n",
        "# --- Q1 PROVA ---- #\n",
        "A = np.array([[0.7071,1.0,0.0,0.0,0.0,0.0,0.0,0.0,0.0,0.0,0.0,0.0,0.0],\n",
        "              [0.0,-1.0,0.0,0.0,0.0,1.0,0.0,0.0,0.0,0.0,0.0,0.0,0.0],\n",
        "              [0.0,0.0,1.0,0.0,0.0,0.0,0.0,0.0,0.0,0.0,0.0,0.0,0.0],\n",
        "              [-0.7071,0.0,0.0,1.0,0.6585,0.0,0.0,0.0,0.0,0.0,0.0,0.0,0.0],\n",
        "              [0.7071,0.0,1.0,0.0,0.7526,0.0,0.0,0.0,0.0,0.0,0.0,0.0,0.0],\n",
        "              [0.0,0.0,0.0,-1.0,0.0,0.0,1.0,0.6585,0.0,0.0,0.0,0.0,0.0],\n",
        "              [0.0,0.0,0.0,0.0,0.0,0.0,0.0,0.7526,1.0,0.0,0.0,0.0,0.0],\n",
        "              [0.0,0.0,0.0,0.0,-0.6585,-1.0,0.0,0.0,0.0,1.0,0.0,0.0,0.0],\n",
        "              [0.0,0.0,0.0,0.0,0.7526,0.0,0.0,0.0,1.0,0.0,0.0,0.0,0.0],\n",
        "              [0.0,0.0,0.0,0.0,0.0,0.0,-1.0,0.0,0.0,0.0,0.7071,0.0,0.0],\n",
        "              [0.0,0.0,0.0,0.0,0.0,0.0,0.0,0.0,0.0,0.0,0.7071,1.0,0.0],\n",
        "              [0.0,0.0,0.0,0.0,0.0,0.0,0.0,0.7526,0.0,0.0,0.0,1.0,0.0],\n",
        "              [0.0,0.0,0.0,0.0,0.0,0.0,0.0,0.0,0.0,0.0,0.7071,0.0,1.0]])\n",
        "\n",
        "b = np.array([0.0,0.0,2000.0,0.0,-1000.0,0.0,-500.0,0.0,4000.0,0.0,-500.0,-2000.0,0.0])\n",
        "x0 = np.array([0.0,0.0,0.0,0.0,0.0,0.0,0.0,0.0,0.0,0.0,0.0,0.0,0.0])\n",
        "N = 150\n",
        "cp = 10**-3\n",
        "\n",
        "\n",
        "sylvester(A)\n",
        "#G, G_t = cholesky(A, b)\n",
        "#print(\"Matriz G: \\n\", G, \"\\n\")\n",
        "#print(\"Matriz G_t:\\n\", G_t)"
      ],
      "execution_count": null,
      "outputs": [
        {
          "output_type": "stream",
          "text": [
            "Não satisfaz o critério de Sylvester\n",
            "\n"
          ],
          "name": "stdout"
        }
      ]
    },
    {
      "cell_type": "markdown",
      "metadata": {
        "id": "zxtmiC1mcKoS",
        "colab_type": "text"
      },
      "source": [
        "## Jacobi"
      ]
    },
    {
      "cell_type": "code",
      "metadata": {
        "id": "Amw2w5T9l5Vu",
        "colab_type": "code",
        "colab": {
          "base_uri": "https://localhost:8080/",
          "height": 354
        },
        "outputId": "faddf0b1-46a1-4faf-f974-d579bc6fb3ed"
      },
      "source": [
        "# ------ Resumo ------- #\n",
        "# A - Matriz A          #\n",
        "# b - vetor do sistema  #\n",
        "# x0 - chutes iniciais  #\n",
        "# cp - crit. de parada  #\n",
        "# N - num max de iter.  #\n",
        "# --------------------- #\n",
        "\n",
        "# Lembrando que: isola-se a iesima \n",
        "# variavel na correspondente iesima eq do sistema\n",
        "\n",
        "# Processo: calculo -> armazeno -> uso\n",
        "\n",
        "def jacobi(A,b,x0,N, cp):  \n",
        "  # Chutes possíveis  \n",
        "  x = x0\n",
        "  # MATRIZ DIAGONAL\n",
        "  DIAG = np.diag(A)\n",
        "  print(\"Matriz diagonal \\n\", DIAG)\n",
        "  # MATRIZ COMPLEMENTAR\n",
        "  COMP = A - np.diagflat(DIAG)\n",
        "  print(\"Matriz complementar \\n\", COMP)\n",
        "\n",
        "  for i in range(N):\n",
        "    # ----- FUNC. ITERAÇÃO ----- #\n",
        "    # xi(k+1) = 1/aii (bi - phi) #\n",
        "    print(\"Solução atual\", x)\n",
        "    x_new = (b - np.dot(COMP,x))/ DIAG\n",
        "    # Critério de parada\n",
        "    # Erro absoluto < criterio de parada\n",
        "    if(np.allclose(x,x_new,atol=cp,rtol=0.)):\n",
        "      print(\"Atingiu o criterio de parada na iteração\", i+1)\n",
        "      print(\"O erro é de\", (x_new - x))\n",
        "      break\n",
        "    else:\n",
        "        x = x_new\n",
        "\n",
        "  return x\n",
        "\n",
        "# ---- QUESTAO DE TESTE ----#\n",
        "'''\n",
        "A = np.array([[2.0,1.0],[5.0,7.0]])\n",
        "b = np.array([11.0,13.0])\n",
        "x0 = np.asarray([1.0,1.0])\n",
        "N = 151\n",
        "cp = 10**-2\n",
        "'''\n",
        "\n",
        "# ---- QUESTAO DE TESTE ---- #\n",
        "'''A = np.array([[10.0,2.0,1.0],[1.0,5.0,1.0],[2.0,3.0,10.0]])\n",
        "b = np.array([7.0,-8.0,6.0])\n",
        "x0 = np.array([1.0,1.0,1.0]) \n",
        "N = 151\n",
        "cp = 10**-3\n",
        "'''\n",
        "# ---- QUESTAO 1(a) LISTA 4 ---- #\n",
        "'''\n",
        "A = np.array([[2.0,-1.0],[1.0,2.0]])\n",
        "b = np.array([1.0,3.0])\n",
        "x0 = np.asarray([0.0,0.0])\n",
        "N = 150\n",
        "cp = 10**-3\n",
        "'''\n",
        "\n",
        "# ---- QUESTAO 1(b) LISTA 4 ---- #\n",
        "\n",
        "A = np.array([[1.0,-0.25,-0.25,0.0],\n",
        "              [-0.25,1.0,0.0,-0.25],\n",
        "              [-0.25,0.0,1.0,-0.25],\n",
        "              [0.0,-0.25,0.0,1.0]])\n",
        "b = np.array([0.0,0.0,0.25,0.25])\n",
        "x0 = np.asarray([0.0,0.0,0.0,0.0])\n",
        "N = 150\n",
        "cp = 10**-3\n",
        "\n",
        "\n",
        "\n",
        "\n",
        "#print(A.shape)\n",
        "#print(b)\n",
        "x= jacobi(A,b,x0,N, cp)\n",
        "print(\"Solução:\", x)\n"
      ],
      "execution_count": null,
      "outputs": [
        {
          "output_type": "stream",
          "text": [
            "Matriz diagonal \n",
            " [1. 1. 1. 1.]\n",
            "Matriz complementar \n",
            " [[ 0.   -0.25 -0.25  0.  ]\n",
            " [-0.25  0.    0.   -0.25]\n",
            " [-0.25  0.    0.   -0.25]\n",
            " [ 0.   -0.25  0.    0.  ]]\n",
            "Solução atual [0. 0. 0. 0.]\n",
            "Solução atual [0.   0.   0.25 0.25]\n",
            "Solução atual [0.0625 0.0625 0.3125 0.25  ]\n",
            "Solução atual [0.09375  0.078125 0.328125 0.265625]\n",
            "Solução atual [0.1015625  0.08984375 0.33984375 0.26953125]\n",
            "Solução atual [0.10742188 0.09277344 0.34277344 0.27246094]\n",
            "Solução atual [0.10888672 0.0949707  0.3449707  0.27319336]\n",
            "Solução atual [0.10998535 0.09552002 0.34552002 0.27374268]\n",
            "Atingiu o criterio de parada na iteração 8\n",
            "O erro é de [0.00027466 0.00041199 0.00041199 0.00013733]\n",
            "Solução: [0.10998535 0.09552002 0.34552002 0.27374268]\n"
          ],
          "name": "stdout"
        }
      ]
    },
    {
      "cell_type": "markdown",
      "metadata": {
        "id": "QrexjC2JIFHe",
        "colab_type": "text"
      },
      "source": [
        "## Gauss-Seidel"
      ]
    },
    {
      "cell_type": "code",
      "metadata": {
        "id": "L910KwrLnfL7",
        "colab_type": "code",
        "colab": {
          "base_uri": "https://localhost:8080/",
          "height": 231
        },
        "outputId": "e342df76-7146-48bc-873e-28b471c7a8c3"
      },
      "source": [
        "# TA FALTANDO POR O CRITÉRIO DE PARADA\n",
        "\n",
        "def gseidel(A,b,cp,N):\n",
        "  x = np.zeros_like(b)\n",
        "  x_new = x\n",
        "  n = x.shape[0]\n",
        "  for k in range(N):   \n",
        "    for i in range(n):\n",
        "      sum = 0\n",
        "      for j in range(n):\n",
        "        if(j==i):\n",
        "          continue\n",
        "        # ITERAÇÃO DE GAUSS-SEIDEL\n",
        "        sum += A[i,j]*x[j]\n",
        "        x[i] = (b[i] - sum)/A[i,i]  \n",
        "    print('Solução da iteração', k,':', x)\n",
        "  return x\n",
        "\n",
        "# ---- QUESTAO 3 LISTA 4 ---- #\n",
        "'''\n",
        "A = np.array([[10.0,2.0,-1.0],\n",
        "              [-3.0,-6.0,2.0],\n",
        "              [1.0,1.0,5.0]])\n",
        "b = np.array([27.0,-61.5,-21.5])\n",
        "N = 15\n",
        "cp = 0.05 \n",
        "'''\n",
        "\n",
        "# ---- QUESTAO 5 LISTA 5 ---- #\n",
        "'''A = np.array([[4.0,3.0,2.0],\n",
        "              [1.0,3.0,1.0],\n",
        "              [2.0,1.0,3.0]])\n",
        "b = np.array([960.0,510.0,610.0])\n",
        "N = 25\n",
        "cp = 0.05'''\n",
        "\n",
        "\n",
        "\n",
        "x = gseidel(A,b,cp, N)\n",
        "print(\"Sol:\", x)"
      ],
      "execution_count": null,
      "outputs": [
        {
          "output_type": "error",
          "ename": "NameError",
          "evalue": "ignored",
          "traceback": [
            "\u001b[0;31m---------------------------------------------------------------------------\u001b[0m",
            "\u001b[0;31mNameError\u001b[0m                                 Traceback (most recent call last)",
            "\u001b[0;32m<ipython-input-26-62deea0b69e1>\u001b[0m in \u001b[0;36m<module>\u001b[0;34m()\u001b[0m\n\u001b[1;32m     37\u001b[0m \u001b[0;34m\u001b[0m\u001b[0m\n\u001b[1;32m     38\u001b[0m \u001b[0;34m\u001b[0m\u001b[0m\n\u001b[0;32m---> 39\u001b[0;31m \u001b[0mx\u001b[0m \u001b[0;34m=\u001b[0m \u001b[0mgseidel\u001b[0m\u001b[0;34m(\u001b[0m\u001b[0mA\u001b[0m\u001b[0;34m,\u001b[0m\u001b[0mb\u001b[0m\u001b[0;34m,\u001b[0m\u001b[0mcp\u001b[0m\u001b[0;34m,\u001b[0m \u001b[0mN\u001b[0m\u001b[0;34m)\u001b[0m\u001b[0;34m\u001b[0m\u001b[0;34m\u001b[0m\u001b[0m\n\u001b[0m\u001b[1;32m     40\u001b[0m \u001b[0mprint\u001b[0m\u001b[0;34m(\u001b[0m\u001b[0;34m\"Sol:\"\u001b[0m\u001b[0;34m,\u001b[0m \u001b[0mx\u001b[0m\u001b[0;34m)\u001b[0m\u001b[0;34m\u001b[0m\u001b[0;34m\u001b[0m\u001b[0m\n",
            "\u001b[0;31mNameError\u001b[0m: name 'cp' is not defined"
          ]
        }
      ]
    },
    {
      "cell_type": "code",
      "metadata": {
        "id": "J4nHrQeWr9t3",
        "colab_type": "code",
        "colab": {}
      },
      "source": [
        ""
      ],
      "execution_count": null,
      "outputs": []
    },
    {
      "cell_type": "markdown",
      "metadata": {
        "id": "yPlqb4eiTvyB",
        "colab_type": "text"
      },
      "source": [
        "## Questão 2 prova\n"
      ]
    },
    {
      "cell_type": "code",
      "metadata": {
        "id": "-GP-iBBfTttB",
        "colab_type": "code",
        "colab": {
          "base_uri": "https://localhost:8080/",
          "height": 54
        },
        "outputId": "e6241e10-4025-4669-b065-3f107e5f54dc"
      },
      "source": [
        "x = 0.000000231*(222**2) - 0.00068074*222 +1.052589440\n",
        "print(x)\n",
        "print('Alternativa D')"
      ],
      "execution_count": null,
      "outputs": [
        {
          "output_type": "stream",
          "text": [
            "0.912849764\n",
            "Alternativa D\n"
          ],
          "name": "stdout"
        }
      ]
    },
    {
      "cell_type": "code",
      "metadata": {
        "id": "LNzekwYWUDKs",
        "colab_type": "code",
        "colab": {}
      },
      "source": [
        ""
      ],
      "execution_count": null,
      "outputs": []
    }
  ]
}