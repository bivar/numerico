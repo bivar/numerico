{
  "nbformat": 4,
  "nbformat_minor": 0,
  "metadata": {
    "colab": {
      "name": "numerico_prov3.ipynb",
      "provenance": [],
      "collapsed_sections": [
        "5cBiCK3TMcJ7"
      ],
      "authorship_tag": "ABX9TyM5jnWWeRnMvO2Nsah3LbXC",
      "include_colab_link": true
    },
    "kernelspec": {
      "name": "python3",
      "display_name": "Python 3"
    }
  },
  "cells": [
    {
      "cell_type": "markdown",
      "metadata": {
        "id": "view-in-github",
        "colab_type": "text"
      },
      "source": [
        "<a href=\"https://colab.research.google.com/github/bivar/numerico/blob/master/NUMERICO_INTEGRA%C3%87%C3%83O.ipynb\" target=\"_parent\"><img src=\"https://colab.research.google.com/assets/colab-badge.svg\" alt=\"Open In Colab\"/></a>"
      ]
    },
    {
      "cell_type": "markdown",
      "metadata": {
        "id": "o_9ttSsRyK8E",
        "colab_type": "text"
      },
      "source": [
        "[Simpson](https://www.math.ubc.ca/~pwalls/math-python/integration/simpsons-rule/)"
      ]
    },
    {
      "cell_type": "code",
      "metadata": {
        "id": "MoWZo9Alrtie",
        "colab_type": "code",
        "colab": {
          "base_uri": "https://localhost:8080/",
          "height": 34
        },
        "outputId": "52572146-3a4c-4963-b3a5-cf8b085f9feb"
      },
      "source": [
        "import numpy as np\n",
        "import math\n",
        "from sympy import *\n",
        "from scipy.integrate import quad"
      ],
      "execution_count": 164,
      "outputs": [
        {
          "output_type": "stream",
          "text": [
            "Using numpy backend\n"
          ],
          "name": "stderr"
        }
      ]
    },
    {
      "cell_type": "markdown",
      "metadata": {
        "id": "Vy1uhFCJyZoV",
        "colab_type": "text"
      },
      "source": [
        "## QUESTÃO 1\n",
        "### Simpson Composto\n"
      ]
    },
    {
      "cell_type": "code",
      "metadata": {
        "id": "FFF4zvp9ya1N",
        "colab_type": "code",
        "colab": {
          "base_uri": "https://localhost:8080/",
          "height": 376
        },
        "outputId": "1a8b0037-0ede-4b0a-ff14-b6ec7da295a4"
      },
      "source": [
        "# DADOS DA QUESTÂO\n",
        "var('x,y')\n",
        "f =  Lambda(x, 1/(x**4 + 1)) \n",
        "a = -1\n",
        "b = 1\n",
        "n = 8\n",
        "\n",
        "\n",
        "def integral_exata(f,a,b):\n",
        "  integral, erro = quad(f, a, b)\n",
        "  return integral\n",
        "\n",
        "\n",
        "def simpson_composto(f, a, b, n): \n",
        "  print(\"\\n # --- CALCULANDO POR SIMPSON COMPOSTO --- #\")\n",
        "  # calculo de h\n",
        "  h = (b-a)/float(n)\n",
        "  integral = 0\n",
        "  print(\"i   | xi   | yi   | ci   | yi*ci  \")\n",
        "  for i in range (n+1):\n",
        "    xi = a + i*h\n",
        "    yi = f(xi)\n",
        "    if (i==0 or i==n):\n",
        "      ci = 1\n",
        "    elif (i%2==0):\n",
        "      ci = 2\n",
        "    else:\n",
        "      ci = 4\n",
        "    yici = yi * ci\n",
        "    integral += yici\n",
        "    print(i, \" \", xi, \" \", yi, \" \", ci,  \" \",yici)\n",
        "  y = (h/3)*integral\n",
        "  return y \n",
        " \n",
        "\n",
        "integral_exata = integral_exata(f,a, b)\n",
        "print(\"INTEGRAL EXATA \\n y = \", integral_exata, '\\n')\n",
        "\n",
        "y = simpson_composto(f, a, b, n)\n",
        "print('\\n Integral aproximada = ', y)\n",
        "\n",
        "print(\"\\n# --- ERRO ABSOLUTO --- #\")\n",
        "e_abs = abs(integral_exata - y)\n",
        "print(\"EA = \", e_abs)"
      ],
      "execution_count": 78,
      "outputs": [
        {
          "output_type": "stream",
          "text": [
            "INTEGRAL EXATA \n",
            " y =  1.7339459746798223 \n",
            "\n",
            "\n",
            " # --- CALCULANDO POR SIMPSON COMPOSTO --- #\n",
            "i   | xi   | yi   | ci   | yi*ci  \n",
            "0   -1.0   0.500000000000000   1   0.500000000000000\n",
            "1   -0.75   0.759643916913947   4   3.03857566765579\n",
            "2   -0.5   0.941176470588235   2   1.88235294117647\n",
            "3   -0.25   0.996108949416342   4   3.98443579766537\n",
            "4   0.0   1   2   2\n",
            "5   0.25   0.996108949416342   4   3.98443579766537\n",
            "6   0.5   0.941176470588235   2   1.88235294117647\n",
            "7   0.75   0.759643916913947   4   3.03857566765579\n",
            "8   1.0   0.500000000000000   1   0.500000000000000\n",
            "\n",
            " Integral aproximada =  1.73422740108294\n",
            "\n",
            "# --- ERRO ABSOLUTO --- #\n",
            "EA =  0.000281426403115237\n"
          ],
          "name": "stdout"
        }
      ]
    },
    {
      "cell_type": "markdown",
      "metadata": {
        "id": "f8UVzXa8Macg",
        "colab_type": "text"
      },
      "source": [
        "## Questão 2\n"
      ]
    },
    {
      "cell_type": "code",
      "metadata": {
        "id": "elR4LpxXPUEk",
        "colab_type": "code",
        "colab": {
          "base_uri": "https://localhost:8080/",
          "height": 88
        },
        "outputId": "8456a747-9664-499e-f11c-9183994b0670"
      },
      "source": [
        "# DADOS DA QUESTÂO\n",
        "def f(x):\n",
        "  return 2 * np.sin(2*x)\n",
        "\n",
        "a = 0\n",
        "b = np.pi\n",
        "n = 6\n",
        "\n",
        "def integral_exata(f,a,b):\n",
        "  integral, erro = quad(f, a, b)  \n",
        "  return integral\n",
        "\n",
        "valor_exato = integral_exata(f, a, b)\n",
        "print(\"INTEGRAL EXATA \\n y = \", valor_exato, '\\n')\n",
        "#print(\"Integral exata arredondada:\", int(valor_exato))\n"
      ],
      "execution_count": 160,
      "outputs": [
        {
          "output_type": "stream",
          "text": [
            "INTEGRAL EXATA \n",
            " y =  2.221501482512777e-16 \n",
            "\n",
            "Integral exata arredondada: 0\n"
          ],
          "name": "stdout"
        }
      ]
    },
    {
      "cell_type": "markdown",
      "metadata": {
        "id": "5cBiCK3TMcJ7",
        "colab_type": "text"
      },
      "source": [
        "### Trapézio Simples"
      ]
    },
    {
      "cell_type": "code",
      "metadata": {
        "id": "ba_LCdakz1sm",
        "colab_type": "code",
        "colab": {
          "base_uri": "https://localhost:8080/",
          "height": 0
        },
        "outputId": "a0c30d0d-17e4-41e5-f6a9-a2568caece4b"
      },
      "source": [
        "def trap(f, a, b, n):\n",
        "    h = (b - a) / float(n)\n",
        "    sum = (f(a) + f(b)) / 2\n",
        "    for i in range(n):\n",
        "        x = a + i * h\n",
        "        sum += f(x)\n",
        "        print(\"x(i) = \", x, '|| f(xi) =', f(x))\n",
        "    return sum * h\n",
        "\n",
        "\n",
        "integral = trap(f, a, b, n)\n",
        "print('Integral = ', integral)\n"
      ],
      "execution_count": 141,
      "outputs": [
        {
          "output_type": "stream",
          "text": [
            "x(i) =  0.0 || f(xi) = 0.0\n",
            "x(i) =  0.5235987755982988 || f(xi) = 1.7320508075688772\n",
            "x(i) =  1.0471975511965976 || f(xi) = 1.7320508075688774\n",
            "x(i) =  1.5707963267948966 || f(xi) = 2.4492935982947064e-16\n",
            "x(i) =  2.0943951023931953 || f(xi) = -1.7320508075688767\n",
            "x(i) =  2.617993877991494 || f(xi) = -1.732050807568878\n",
            "Integral =  0.0\n"
          ],
          "name": "stdout"
        }
      ]
    },
    {
      "cell_type": "markdown",
      "metadata": {
        "id": "8RWws_VjPBuA",
        "colab_type": "text"
      },
      "source": [
        "### Trapezio Composto\n"
      ]
    },
    {
      "cell_type": "markdown",
      "metadata": {
        "id": "CuqQ-Gt3pzP_",
        "colab_type": "text"
      },
      "source": [
        "Para comparar resultados: [Wolfram Alpha](https://www.wolframalpha.com/widgets/view.jsp?id=40563c7ee6ef51c162833327f8a3880d)"
      ]
    },
    {
      "cell_type": "code",
      "metadata": {
        "id": "NCrlfC7nPD7X",
        "colab_type": "code",
        "colab": {
          "base_uri": "https://localhost:8080/",
          "height": 304
        },
        "outputId": "fc0e2d85-3cd6-4f17-8481-bdb13d3a5c54"
      },
      "source": [
        "def trap_composto(f, a, b, n):\n",
        "  h = (b-a)/float(n)\n",
        "  integral = 0\n",
        "  print(\"i   | xi   | yi   | ti   | yi*ti  \\n\")\n",
        "  for i in range(n+1):\n",
        "    xi = a + i*h\n",
        "    yi = f(xi)\n",
        "    # ti = 1, 2, 2, 2, ..., 2, 1.\n",
        "    if(i==0 or i==n):\n",
        "      ti = 1\n",
        "    else:\n",
        "      ti = 2\n",
        "    yi_ti = yi * ti\n",
        "    integral += yi_ti\n",
        "    print(i, \" \", xi, \" \", yi, \" \", ti,  \" \",yi_ti)\n",
        "  y = (h/2)*integral\n",
        "  return y\n",
        "\n",
        "\n",
        "trap_c = trap_composto(f, a, b, n)\n",
        "print(\"\\n Trap Composto: y = \", trap_c)\n",
        "print(\"\\n Trap Composto arredondado: y =\", int(trap_c))\n",
        "print(\"\\n# --- ERRO ABSOLUTO --- #\")\n",
        "e_abs = abs(valor_exato - trap_c)\n",
        "print(\"EA = \", e_abs)\n"
      ],
      "execution_count": 161,
      "outputs": [
        {
          "output_type": "stream",
          "text": [
            "i   | xi   | yi   | ti   | yi*ti  \n",
            "\n",
            "0   0.0   0.0   1   0.0\n",
            "1   0.5235987755982988   1.7320508075688772   2   3.4641016151377544\n",
            "2   1.0471975511965976   1.7320508075688774   2   3.464101615137755\n",
            "3   1.5707963267948966   2.4492935982947064e-16   2   4.898587196589413e-16\n",
            "4   2.0943951023931953   -1.7320508075688767   2   -3.4641016151377535\n",
            "5   2.617993877991494   -1.732050807568878   2   -3.464101615137756\n",
            "6   3.141592653589793   -4.898587196589413e-16   1   -4.898587196589413e-16\n",
            "\n",
            " Trap Composto: y =  -1.2824471291478598e-16\n",
            "\n",
            " Trap Composto arredondado: y = 0\n",
            "\n",
            "# --- ERRO ABSOLUTO --- #\n",
            "EA =  3.503948611660637e-16\n"
          ],
          "name": "stdout"
        }
      ]
    },
    {
      "cell_type": "markdown",
      "metadata": {
        "id": "xL0aPDtzMfTG",
        "colab_type": "text"
      },
      "source": [
        "### 1/3 de Simpson \n",
        "\n"
      ]
    },
    {
      "cell_type": "code",
      "metadata": {
        "id": "rhBxphKAIEDX",
        "colab_type": "code",
        "colab": {
          "base_uri": "https://localhost:8080/",
          "height": 286
        },
        "outputId": "cb3d10e0-dd07-4613-f46d-edc3e83f7b8e"
      },
      "source": [
        "simp_comp = simpson_composto(f, a, b, n)\n",
        "print('\\n Integral 1/3 de Simpson: y = ', simp_comp)\n",
        "\n",
        "print(\"\\n# --- ERRO ABSOLUTO --- #\")\n",
        "e_abs = abs(valor_exato - simp_comp)\n",
        "print(\"EA = \", e_abs)"
      ],
      "execution_count": 157,
      "outputs": [
        {
          "output_type": "stream",
          "text": [
            "\n",
            " # --- CALCULANDO POR SIMPSON COMPOSTO --- #\n",
            "i   | xi   | yi   | ci   | yi*ci  \n",
            "0   0.0   0.0   1   0.0\n",
            "1   0.5235987755982988   1.7320508075688772   4   6.928203230275509\n",
            "2   1.0471975511965976   1.7320508075688774   2   3.464101615137755\n",
            "3   1.5707963267948966   2.4492935982947064e-16   4   9.797174393178826e-16\n",
            "4   2.0943951023931953   -1.7320508075688767   2   -3.4641016151377535\n",
            "5   2.617993877991494   -1.732050807568878   4   -6.928203230275512\n",
            "6   3.141592653589793   -4.898587196589413e-16   1   -4.898587196589413e-16\n",
            "\n",
            " Integral 1/3 de Simpson: y =  -8.549647527652399e-17\n",
            "\n",
            "# --- ERRO ABSOLUTO --- #\n",
            "EA =  3.076466235278017e-16\n"
          ],
          "name": "stdout"
        }
      ]
    },
    {
      "cell_type": "markdown",
      "metadata": {
        "id": "nxULqcrCpopY",
        "colab_type": "text"
      },
      "source": [
        "## Questão 3"
      ]
    },
    {
      "cell_type": "markdown",
      "metadata": {
        "id": "cO7wopZF-jtz",
        "colab_type": "text"
      },
      "source": [
        "### Método de Heun (Euler modificado)"
      ]
    },
    {
      "cell_type": "markdown",
      "metadata": {
        "id": "bg5Qc0KbU-F4",
        "colab_type": "text"
      },
      "source": [
        "Comparação de resultados: [Heun's method](https://www.wolframalpha.com/input/?i=use+Heun+method+y%27+%3D+%282000+-+2y%29+%2F+%28200+-+t%29%2C+y%280%29+%3D+0%2C+from+0+to+5)"
      ]
    },
    {
      "cell_type": "code",
      "metadata": {
        "id": "W7eGfgDzD12l",
        "colab_type": "code",
        "colab": {}
      },
      "source": [
        "#Dados: \n",
        "a = 0\n",
        "b = 5\n",
        "x0 = 0\n",
        "t = np.linspace(a, b, 11)\n",
        "def v_linha(y, t):\n",
        "  return ((2000 - 2*y) / (200 - t))"
      ],
      "execution_count": 197,
      "outputs": []
    },
    {
      "cell_type": "code",
      "metadata": {
        "id": "WKPSnMFJppQP",
        "colab_type": "code",
        "colab": {
          "base_uri": "https://localhost:8080/",
          "height": 1000
        },
        "outputId": "6c2c501d-6da2-46f7-befa-9dad644fe21a"
      },
      "source": [
        "def heun(f, x0, t):\n",
        "    n = len( t )\n",
        "    x = np.array( [float(x0)] * n )\n",
        "    for i in range( n - 1 ):\n",
        "      h = 0.5    \n",
        "      k1 = f(x[i], t[i])\n",
        "      print('\\nx[i] e t[i]:', x[i], t[i])\n",
        "      print('k1:', k1)\n",
        "      k2 = f(x[i] + (2*h*k1)/3, t[i] + (2*h)/3)\n",
        "      print('k2:', k2)\n",
        "      x[i+1] = float(x[i] + h*(k1/4 + (3*k2)/4))\n",
        "      print('xi: ', x[i])\n",
        "    print('\\nresultado: ', x[10])\n",
        "    return x\n",
        "\n",
        "heun = heun(v_linha, x0, t)\n",
        "print(\"\\n#--- solução ---#\")\n",
        "print('\\nv(5) = ', heun[10])"
      ],
      "execution_count": 216,
      "outputs": [
        {
          "output_type": "stream",
          "text": [
            "\n",
            "x[i] e t[i]: 0.0 0.0\n",
            "k1: 10.0\n",
            "k2: 9.983305509181971\n",
            "xi:  0.0\n",
            "\n",
            "x[i] e t[i]: 4.993739565943239 0.5\n",
            "k1: 9.975000104602072\n",
            "k2: 9.958305543757552\n",
            "xi:  4.993739565943239\n",
            "\n",
            "x[i] e t[i]: 9.97497915792758 1.0\n",
            "k1: 9.950000209468065\n",
            "k2: 9.933305578244125\n",
            "xi:  9.97497915792758\n",
            "\n",
            "x[i] e t[i]: 14.943718775952636 1.5\n",
            "k1: 9.925000314599973\n",
            "k2: 9.908305612641017\n",
            "xi:  14.943718775952636\n",
            "\n",
            "x[i] e t[i]: 19.899958420018017 2.0\n",
            "k1: 9.900000419999818\n",
            "k2: 9.883305646947543\n",
            "xi:  19.899958420018017\n",
            "\n",
            "x[i] e t[i]: 24.843698090123322 2.5\n",
            "k1: 9.875000525669638\n",
            "k2: 9.858305681163012\n",
            "xi:  24.843698090123322\n",
            "\n",
            "x[i] e t[i]: 29.774937786268154 3.0\n",
            "k1: 9.85000063161149\n",
            "k2: 9.833305715286727\n",
            "xi:  29.774937786268154\n",
            "\n",
            "x[i] e t[i]: 34.69367750845211 3.5\n",
            "k1: 9.825000737827459\n",
            "k2: 9.808305749317983\n",
            "xi:  34.69367750845211\n",
            "\n",
            "x[i] e t[i]: 39.599917256674786 4.0\n",
            "k1: 9.800000844319646\n",
            "k2: 9.783305783256068\n",
            "xi:  39.599917256674786\n",
            "\n",
            "x[i] e t[i]: 44.493657030935765 4.5\n",
            "k1: 9.77500095109017\n",
            "k2: 9.758305817100265\n",
            "xi:  44.493657030935765\n",
            "\n",
            "resultado:  49.374896831234636\n",
            "\n",
            "#--- solução ---#\n",
            "\n",
            "v(5) =  49.374896831234636\n"
          ],
          "name": "stdout"
        }
      ]
    },
    {
      "cell_type": "markdown",
      "metadata": {
        "id": "-ugqcX2pbGA9",
        "colab_type": "text"
      },
      "source": [
        "### Runge-Kutter 4ª ordem \n",
        "Comapração: [Wolfram](https://www.wolframalpha.com/input/?i=fourth-order+Runge-Kutta+method+y%27+%3D+%282000+-+2y%29+%2F+%28200+-+t%29%2C+y%280%29+%3D+0%2C+from+0+to+5)"
      ]
    },
    {
      "cell_type": "code",
      "metadata": {
        "id": "PYXRBUiyXai6",
        "colab_type": "code",
        "colab": {
          "base_uri": "https://localhost:8080/",
          "height": 1000
        },
        "outputId": "6c0148ca-7fda-4c92-dedd-d8b6b9df5ca6"
      },
      "source": [
        "def rk_4( f, x0, t ):\n",
        "    n = len( t )\n",
        "    x = np.array( [float(x0)] * n )\n",
        "    for i in range( n - 1 ):\n",
        "      h = 0.5 #t[i+1] - t[i]        \n",
        "      k1 = f(x[i], t[i])\n",
        "      print('\\nx[i] e t[i]:', x[i], t[i])\n",
        "      print('k1:', k1)\n",
        "\n",
        "      k2 = f(x[i] + h/2, t[i] + (k1*h)/2)\n",
        "      print('k2:', k2)\n",
        "\n",
        "      k3 = f(x[i] + h/2, t[i] + (h*k2)/2)\n",
        "      print('k3:', k3)\n",
        "\n",
        "      k4 = f(x[i] + h, t[i] + h*k3)\n",
        "      print('k4:', k4)\n",
        "\n",
        "      # assumindo K = 1/6(k1 + 2k2 + 2k3 + k4)\n",
        "      x[i+1] = float(x[i] + h*((k1/6) + (k2/3) + (k3/3) + (k4/6)))\n",
        "      print('xi: ', x[i])\n",
        "    print('\\nresultado: ', x[10])\n",
        "    return x\n",
        "\n",
        "sol_rk = rk_4(v_linha, x0, t)\n",
        "print(\"\\n#--- solução ---#\")\n",
        "print('\\nv(5) = ', sol_rk[10])"
      ],
      "execution_count": 222,
      "outputs": [
        {
          "output_type": "stream",
          "text": [
            "\n",
            "x[i] e t[i]: 0.0 0.0\n",
            "k1: 10.0\n",
            "k2: 10.124050632911393\n",
            "k3: 10.12564062294672\n",
            "k4: 10.254585621860489\n",
            "xi:  0.0\n",
            "\n",
            "x[i] e t[i]: 5.062830677798059 0.5\n",
            "k1: 9.97430746187671\n",
            "k2: 10.09801765339351\n",
            "k3: 10.099603164949302\n",
            "k4: 10.22819392744395\n",
            "xi:  5.062830677798059\n",
            "\n",
            "x[i] e t[i]: 10.112642596631916 1.0\n",
            "k1: 9.948616657320283\n",
            "k2: 10.071986420988816\n",
            "k3: 10.073567454573269\n",
            "k4: 10.201803995787365\n",
            "xi:  10.112642596631916\n",
            "\n",
            "x[i] e t[i]: 15.1494366303179 1.5\n",
            "k1: 9.92292759062652\n",
            "k2: 10.045956939861783\n",
            "k3: 10.047533495982258\n",
            "k4: 10.17541583092053\n",
            "xi:  15.1494366303179\n",
            "\n",
            "x[i] e t[i]: 20.17321365475416 2.0\n",
            "k1: 9.897240266113595\n",
            "k2: 10.019929214197386\n",
            "k3: 10.021501293360386\n",
            "k4: 10.149029436891785\n",
            "xi:  20.17321365475416\n",
            "\n",
            "x[i] e t[i]: 25.183974547930905 2.5\n",
            "k1: 9.871554688122218\n",
            "k2: 9.993903248201232\n",
            "k3: 9.995470850912389\n",
            "k4: 10.122644817768146\n",
            "xi:  25.183974547930905\n",
            "\n",
            "x[i] e t[i]: 30.181720189940705 3.0\n",
            "k1: 9.84587086101583\n",
            "k2: 9.967879046099743\n",
            "k3: 9.96944217286379\n",
            "k4: 10.096261977635423\n",
            "xi:  30.181720189940705\n",
            "\n",
            "x[i] e t[i]: 35.166451462988896 3.5\n",
            "k1: 9.820188789180774\n",
            "k2: 9.941856612140294\n",
            "k3: 9.94341526346105\n",
            "k4: 10.069880920598363\n",
            "xi:  35.166451462988896\n",
            "\n",
            "x[i] e t[i]: 40.13816925140405 4.0\n",
            "k1: 9.79450847702649\n",
            "k2: 9.915835950591376\n",
            "k3: 9.917390126971727\n",
            "k4: 10.043501650780769\n",
            "xi:  40.13816925140405\n",
            "\n",
            "x[i] e t[i]: 45.09687444164851 4.5\n",
            "k1: 9.768829928985692\n",
            "k2: 9.889817065742754\n",
            "k3: 9.891366767684628\n",
            "k4: 10.017124172325621\n",
            "xi:  45.09687444164851\n",
            "\n",
            "resultado:  50.04256792232901\n",
            "\n",
            "#--- solução ---#\n",
            "\n",
            "v(5) =  50.04256792232901\n"
          ],
          "name": "stdout"
        }
      ]
    },
    {
      "cell_type": "markdown",
      "metadata": {
        "id": "HX8H6fEpVZ3Y",
        "colab_type": "text"
      },
      "source": [
        "### Comparação dos métodos"
      ]
    },
    {
      "cell_type": "code",
      "metadata": {
        "id": "0u99v89wMz-D",
        "colab_type": "code",
        "colab": {
          "base_uri": "https://localhost:8080/",
          "height": 268
        },
        "outputId": "be7ac8d1-f778-442e-bcfb-04f6f1d77e37"
      },
      "source": [
        "def v_t(t):\n",
        "  return (10*t) - ((t**2)/40)\n",
        "\n",
        "# METODO DE EULER APRIMORADO (HEUN)\n",
        "\n",
        "print(\"\\t\\t# ---- METODO DE EULER APRIMORADO ---- #\")\n",
        "print('Solução exata: ', v_t(5))\n",
        "print('Aproximação pelo método: ', heun[10])\n",
        "\n",
        "print(\"\\n# --- ERRO ABSOLUTO --- #\")\n",
        "e_abs = abs(v_t(5) - heun[10])\n",
        "print(\"EA = \", e_abs)\n",
        "\n",
        "# METODO DE RUNGE-KUTTER DE QUARTA ORDEM\n",
        "\n",
        "print(\"\\n\\n\\t\\t# ---- METODO DE EULER APRIMORADO ---- #\")\n",
        "print('Solução exata: ', v_t(5))\n",
        "print('Aproximação pelo método: ', sol_rk[10])\n",
        "\n",
        "print(\"\\n# --- ERRO ABSOLUTO --- #\")\n",
        "e_abs = abs(v_t(5) - sol_rk[10])\n",
        "print(\"EA = \", e_abs)"
      ],
      "execution_count": 223,
      "outputs": [
        {
          "output_type": "stream",
          "text": [
            "\t\t# ---- METODO DE EULER APRIMORADO ---- #\n",
            "Solução exata:  49.375\n",
            "Aproximação pelo método:  49.374896831234636\n",
            "\n",
            "# --- ERRO ABSOLUTO --- #\n",
            "EA =  0.00010316876536364816\n",
            "\n",
            "\n",
            "\t\t# ---- METODO DE EULER APRIMORADO ---- #\n",
            "Solução exata:  49.375\n",
            "Aproximação pelo método:  50.04256792232901\n",
            "\n",
            "# --- ERRO ABSOLUTO --- #\n",
            "EA =  0.6675679223290132\n"
          ],
          "name": "stdout"
        }
      ]
    },
    {
      "cell_type": "code",
      "metadata": {
        "id": "XhbcPxnvM6Up",
        "colab_type": "code",
        "colab": {}
      },
      "source": [
        ""
      ],
      "execution_count": null,
      "outputs": []
    }
  ]
}