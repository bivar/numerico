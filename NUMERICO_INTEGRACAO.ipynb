{
  "nbformat": 4,
  "nbformat_minor": 0,
  "metadata": {
    "colab": {
      "name": "numerico_prov3.ipynb",
      "provenance": [],
      "collapsed_sections": [
        "HX8H6fEpVZ3Y"
      ],
      "toc_visible": true,
      "authorship_tag": "ABX9TyPR+XabUldc8EJ9fOH6n7Vi",
      "include_colab_link": true
    },
    "kernelspec": {
      "name": "python3",
      "display_name": "Python 3"
    }
  },
  "cells": [
    {
      "cell_type": "markdown",
      "metadata": {
        "id": "view-in-github",
        "colab_type": "text"
      },
      "source": [
        "<a href=\"https://colab.research.google.com/github/bivar/numerico/blob/master/NUMERICO_INTEGRACAO.ipynb\" target=\"_parent\"><img src=\"https://colab.research.google.com/assets/colab-badge.svg\" alt=\"Open In Colab\"/></a>"
      ]
    },
    {
      "cell_type": "markdown",
      "metadata": {
        "id": "o_9ttSsRyK8E",
        "colab_type": "text"
      },
      "source": [
        "[Simpson](https://www.math.ubc.ca/~pwalls/math-python/integration/simpsons-rule/)"
      ]
    },
    {
      "cell_type": "code",
      "metadata": {
        "id": "MoWZo9Alrtie",
        "colab_type": "code",
        "colab": {}
      },
      "source": [
        "import numpy as np\n",
        "import math\n",
        "from sympy import *\n",
        "from scipy.integrate import quad"
      ],
      "execution_count": null,
      "outputs": []
    },
    {
      "cell_type": "markdown",
      "metadata": {
        "id": "Vy1uhFCJyZoV",
        "colab_type": "text"
      },
      "source": [
        "## QUESTÃO 1\n",
        "### Simpson Composto\n"
      ]
    },
    {
      "cell_type": "code",
      "metadata": {
        "id": "FFF4zvp9ya1N",
        "colab_type": "code",
        "colab": {
          "base_uri": "https://localhost:8080/",
          "height": 376
        },
        "outputId": "1a8b0037-0ede-4b0a-ff14-b6ec7da295a4"
      },
      "source": [
        "# DADOS DA QUESTÂO\n",
        "var('x,y')\n",
        "f =  Lambda(x, 1/(x**4 + 1)) \n",
        "a = -1\n",
        "b = 1\n",
        "n = 8\n",
        "\n",
        "\n",
        "def integral_exata(f,a,b):\n",
        "  integral, erro = quad(f, a, b)\n",
        "  return integral\n",
        "\n",
        "\n",
        "def simpson_composto(f, a, b, n): \n",
        "  '''\n",
        "  \t- Parametros: \n",
        "\t\tf: função a ser integrada\n",
        "\t\ta: valor inicial do intervalo\n",
        "\t\tb: valor final do intervalo\n",
        "\t\tn: numero de passos\n",
        "\t- Saída:\n",
        "\t\tvalor númerico correspondente a aproximação da integral desejada\n",
        "'''\n",
        "  print(\"\\n # --- CALCULANDO POR SIMPSON COMPOSTO --- #\")\n",
        "  # calculo de h\n",
        "  h = (b-a)/float(n)\n",
        "  integral = 0\n",
        "  print(\"i   | xi   | yi   | ci   | yi*ci  \")\n",
        "  for i in range (n+1):\n",
        "    xi = a + i*h\n",
        "    yi = f(xi)\n",
        "    if (i==0 or i==n):\n",
        "      ci = 1\n",
        "    elif (i%2==0):\n",
        "      ci = 2\n",
        "    else:\n",
        "      ci = 4\n",
        "    yici = yi * ci\n",
        "    integral += yici\n",
        "    print(i, \" \", xi, \" \", yi, \" \", ci,  \" \",yici)\n",
        "  y = (h/3)*integral\n",
        "  return y \n",
        " \n",
        "\n",
        "integral_exata = integral_exata(f,a, b)\n",
        "print(\"INTEGRAL EXATA \\n y = \", integral_exata, '\\n')\n",
        "\n",
        "y = simpson_composto(f, a, b, n)\n",
        "print('\\n Integral aproximada = ', y)\n",
        "\n",
        "print(\"\\n# --- ERRO ABSOLUTO --- #\")\n",
        "e_abs = abs(integral_exata - y)\n",
        "print(\"EA = \", e_abs)"
      ],
      "execution_count": null,
      "outputs": [
        {
          "output_type": "stream",
          "text": [
            "INTEGRAL EXATA \n",
            " y =  1.7339459746798223 \n",
            "\n",
            "\n",
            " # --- CALCULANDO POR SIMPSON COMPOSTO --- #\n",
            "i   | xi   | yi   | ci   | yi*ci  \n",
            "0   -1.0   0.500000000000000   1   0.500000000000000\n",
            "1   -0.75   0.759643916913947   4   3.03857566765579\n",
            "2   -0.5   0.941176470588235   2   1.88235294117647\n",
            "3   -0.25   0.996108949416342   4   3.98443579766537\n",
            "4   0.0   1   2   2\n",
            "5   0.25   0.996108949416342   4   3.98443579766537\n",
            "6   0.5   0.941176470588235   2   1.88235294117647\n",
            "7   0.75   0.759643916913947   4   3.03857566765579\n",
            "8   1.0   0.500000000000000   1   0.500000000000000\n",
            "\n",
            " Integral aproximada =  1.73422740108294\n",
            "\n",
            "# --- ERRO ABSOLUTO --- #\n",
            "EA =  0.000281426403115237\n"
          ],
          "name": "stdout"
        }
      ]
    },
    {
      "cell_type": "markdown",
      "metadata": {
        "id": "f8UVzXa8Macg",
        "colab_type": "text"
      },
      "source": [
        "## Questão 2\n"
      ]
    },
    {
      "cell_type": "code",
      "metadata": {
        "id": "elR4LpxXPUEk",
        "colab_type": "code",
        "colab": {
          "base_uri": "https://localhost:8080/",
          "height": 88
        },
        "outputId": "8456a747-9664-499e-f11c-9183994b0670"
      },
      "source": [
        "# DADOS DA QUESTÂO\n",
        "def f(x):\n",
        "  return 2 * np.sin(2*x)\n",
        "\n",
        "a = 0\n",
        "b = np.pi\n",
        "n = 6\n",
        "\n",
        "def integral_exata(f,a,b):\n",
        "  integral, erro = quad(f, a, b)  \n",
        "  return integral\n",
        "\n",
        "valor_exato = integral_exata(f, a, b)\n",
        "print(\"INTEGRAL EXATA \\n y = \", valor_exato, '\\n')\n",
        "#print(\"Integral exata arredondada:\", int(valor_exato))\n"
      ],
      "execution_count": null,
      "outputs": [
        {
          "output_type": "stream",
          "text": [
            "INTEGRAL EXATA \n",
            " y =  2.221501482512777e-16 \n",
            "\n",
            "Integral exata arredondada: 0\n"
          ],
          "name": "stdout"
        }
      ]
    },
    {
      "cell_type": "markdown",
      "metadata": {
        "id": "5cBiCK3TMcJ7",
        "colab_type": "text"
      },
      "source": [
        "### Trapézio Simples"
      ]
    },
    {
      "cell_type": "code",
      "metadata": {
        "id": "ba_LCdakz1sm",
        "colab_type": "code",
        "colab": {
          "base_uri": "https://localhost:8080/"
        },
        "outputId": "a0c30d0d-17e4-41e5-f6a9-a2568caece4b"
      },
      "source": [
        "def trap(f, a, b, n):\n",
        "    h = (b - a) / float(n)\n",
        "    sum = (f(a) + f(b)) / 2\n",
        "    for i in range(n):\n",
        "        x = a + i * h\n",
        "        sum += f(x)\n",
        "        print(\"x(i) = \", x, '|| f(xi) =', f(x))\n",
        "    return sum * h\n",
        "\n",
        "\n",
        "integral = trap(f, a, b, n)\n",
        "print('Integral = ', integral)\n"
      ],
      "execution_count": null,
      "outputs": [
        {
          "output_type": "stream",
          "text": [
            "x(i) =  0.0 || f(xi) = 0.0\n",
            "x(i) =  0.5235987755982988 || f(xi) = 1.7320508075688772\n",
            "x(i) =  1.0471975511965976 || f(xi) = 1.7320508075688774\n",
            "x(i) =  1.5707963267948966 || f(xi) = 2.4492935982947064e-16\n",
            "x(i) =  2.0943951023931953 || f(xi) = -1.7320508075688767\n",
            "x(i) =  2.617993877991494 || f(xi) = -1.732050807568878\n",
            "Integral =  0.0\n"
          ],
          "name": "stdout"
        }
      ]
    },
    {
      "cell_type": "markdown",
      "metadata": {
        "id": "8RWws_VjPBuA",
        "colab_type": "text"
      },
      "source": [
        "### Trapezio Composto\n"
      ]
    },
    {
      "cell_type": "markdown",
      "metadata": {
        "id": "CuqQ-Gt3pzP_",
        "colab_type": "text"
      },
      "source": [
        "Para comparar resultados: [Wolfram Alpha](https://www.wolframalpha.com/widgets/view.jsp?id=40563c7ee6ef51c162833327f8a3880d)"
      ]
    },
    {
      "cell_type": "code",
      "metadata": {
        "id": "NCrlfC7nPD7X",
        "colab_type": "code",
        "colab": {
          "base_uri": "https://localhost:8080/",
          "height": 304
        },
        "outputId": "fc0e2d85-3cd6-4f17-8481-bdb13d3a5c54"
      },
      "source": [
        "def trap_composto(f, a, b, n):\n",
        "'''\n",
        "  \t- Parametros: \n",
        "\t\tf: função a ser integrada\n",
        "\t\ta: valor inicial do intervalo\n",
        "\t\tb: valor final do intervalo\n",
        "\t\tn: numero de passos\n",
        "\t- Saída:\n",
        "\t\tvalor númerico correspondente a aproximação da integral desejada\n",
        "'''\n",
        "  h = (b-a)/float(n)\n",
        "  integral = 0\n",
        "  print(\"i   | xi   | yi   | ti   | yi*ti  \\n\")\n",
        "  for i in range(n+1):\n",
        "    xi = a + i*h\n",
        "    yi = f(xi)\n",
        "    # ti = 1, 2, 2, 2, ..., 2, 1.\n",
        "    if(i==0 or i==n):\n",
        "      ti = 1\n",
        "    else:\n",
        "      ti = 2\n",
        "    yi_ti = yi * ti\n",
        "    integral += yi_ti\n",
        "    print(i, \" \", xi, \" \", yi, \" \", ti,  \" \",yi_ti)\n",
        "  y = (h/2)*integral\n",
        "  return y\n",
        "\n",
        "\n",
        "trap_c = trap_composto(f, a, b, n)\n",
        "print(\"\\n Trap Composto: y = \", trap_c)\n",
        "print(\"\\n Trap Composto arredondado: y =\", int(trap_c))\n",
        "print(\"\\n# --- ERRO ABSOLUTO --- #\")\n",
        "e_abs = abs(valor_exato - trap_c)\n",
        "print(\"EA = \", e_abs)\n"
      ],
      "execution_count": null,
      "outputs": [
        {
          "output_type": "stream",
          "text": [
            "i   | xi   | yi   | ti   | yi*ti  \n",
            "\n",
            "0   0.0   0.0   1   0.0\n",
            "1   0.5235987755982988   1.7320508075688772   2   3.4641016151377544\n",
            "2   1.0471975511965976   1.7320508075688774   2   3.464101615137755\n",
            "3   1.5707963267948966   2.4492935982947064e-16   2   4.898587196589413e-16\n",
            "4   2.0943951023931953   -1.7320508075688767   2   -3.4641016151377535\n",
            "5   2.617993877991494   -1.732050807568878   2   -3.464101615137756\n",
            "6   3.141592653589793   -4.898587196589413e-16   1   -4.898587196589413e-16\n",
            "\n",
            " Trap Composto: y =  -1.2824471291478598e-16\n",
            "\n",
            " Trap Composto arredondado: y = 0\n",
            "\n",
            "# --- ERRO ABSOLUTO --- #\n",
            "EA =  3.503948611660637e-16\n"
          ],
          "name": "stdout"
        }
      ]
    },
    {
      "cell_type": "markdown",
      "metadata": {
        "id": "xL0aPDtzMfTG",
        "colab_type": "text"
      },
      "source": [
        "### 1/3 de Simpson \n",
        "\n"
      ]
    },
    {
      "cell_type": "code",
      "metadata": {
        "id": "rhBxphKAIEDX",
        "colab_type": "code",
        "colab": {
          "base_uri": "https://localhost:8080/",
          "height": 286
        },
        "outputId": "cb3d10e0-dd07-4613-f46d-edc3e83f7b8e"
      },
      "source": [
        "simp_comp = simpson_composto(f, a, b, n)\n",
        "print('\\n Integral 1/3 de Simpson: y = ', simp_comp)\n",
        "\n",
        "print(\"\\n# --- ERRO ABSOLUTO --- #\")\n",
        "e_abs = abs(valor_exato - simp_comp)\n",
        "print(\"EA = \", e_abs)"
      ],
      "execution_count": null,
      "outputs": [
        {
          "output_type": "stream",
          "text": [
            "\n",
            " # --- CALCULANDO POR SIMPSON COMPOSTO --- #\n",
            "i   | xi   | yi   | ci   | yi*ci  \n",
            "0   0.0   0.0   1   0.0\n",
            "1   0.5235987755982988   1.7320508075688772   4   6.928203230275509\n",
            "2   1.0471975511965976   1.7320508075688774   2   3.464101615137755\n",
            "3   1.5707963267948966   2.4492935982947064e-16   4   9.797174393178826e-16\n",
            "4   2.0943951023931953   -1.7320508075688767   2   -3.4641016151377535\n",
            "5   2.617993877991494   -1.732050807568878   4   -6.928203230275512\n",
            "6   3.141592653589793   -4.898587196589413e-16   1   -4.898587196589413e-16\n",
            "\n",
            " Integral 1/3 de Simpson: y =  -8.549647527652399e-17\n",
            "\n",
            "# --- ERRO ABSOLUTO --- #\n",
            "EA =  3.076466235278017e-16\n"
          ],
          "name": "stdout"
        }
      ]
    },
    {
      "cell_type": "markdown",
      "metadata": {
        "id": "DaOgYphCy3_K",
        "colab_type": "text"
      },
      "source": [
        ""
      ]
    },
    {
      "cell_type": "markdown",
      "metadata": {
        "id": "nxULqcrCpopY",
        "colab_type": "text"
      },
      "source": [
        "## Questão 3"
      ]
    },
    {
      "cell_type": "markdown",
      "metadata": {
        "id": "cO7wopZF-jtz",
        "colab_type": "text"
      },
      "source": [
        "### Método de Heun (Euler modificado)"
      ]
    },
    {
      "cell_type": "markdown",
      "metadata": {
        "id": "bg5Qc0KbU-F4",
        "colab_type": "text"
      },
      "source": [
        "Comparação de resultados: [Heun's method](https://www.wolframalpha.com/input/?i=use+Heun+method+y%27+%3D+%282000+-+2y%29+%2F+%28200+-+t%29%2C+y%280%29+%3D+0%2C+from+0+to+5)"
      ]
    },
    {
      "cell_type": "code",
      "metadata": {
        "id": "W7eGfgDzD12l",
        "colab_type": "code",
        "colab": {}
      },
      "source": [
        "#Dados: \n",
        "a = 0\n",
        "b = 5\n",
        "x0 = 0\n",
        "t = np.linspace(a, b, 11)\n",
        "def v_linha(y, t):\n",
        "  return ((2000 - 2*y) / (200 - t))"
      ],
      "execution_count": null,
      "outputs": []
    },
    {
      "cell_type": "code",
      "metadata": {
        "id": "WKPSnMFJppQP",
        "colab_type": "code",
        "colab": {
          "base_uri": "https://localhost:8080/",
          "height": 834
        },
        "outputId": "487647aa-d28e-4765-89ad-aa244a2ebf3e"
      },
      "source": [
        "def heun(f, x0, t):\n",
        "'''\n",
        "  \t- Parametros: \n",
        "\t\tf: função a ser resolucionada\n",
        "\t\tx0: valor inicial y(0)\n",
        "\t\tt: intervalo a ser analisado\n",
        "\t- Saída:\n",
        "\t\tvetor com os valores p cada valor do intervalo analisado\n",
        "'''\n",
        "    n = len( t )\n",
        "    x = np.array( [float(x0)] * n )\n",
        "    for i in range( n - 1 ):\n",
        "      h = 0.5    \n",
        "      k1 = f(x[i], t[i])\n",
        "      #print('\\nx[i] e t[i]:', x[i], t[i])\n",
        "      print('\\nk1:', k1)\n",
        "\n",
        "      k2 = f(x[i] + (h*k1), t[i] + h)\n",
        "      print('k2:', k2)\n",
        "      x[i+1] = float(x[i] + (1/2)*(k1+k2)*h)\n",
        "      print('xi: ', x[i])\n",
        "    print('\\nresultado: ', x[10])\n",
        "    return x\n",
        "\n",
        "heun = heun(v_linha, x0, t)\n",
        "print(\"\\n#--- solução ---#\")\n",
        "print('\\nv(5) = ', heun[10])"
      ],
      "execution_count": null,
      "outputs": [
        {
          "output_type": "stream",
          "text": [
            "\n",
            "k1: 10.0\n",
            "k2: 9.974937343358397\n",
            "xi:  0.0\n",
            "\n",
            "k1: 9.97500015703419\n",
            "k2: 9.94993734256928\n",
            "xi:  4.9937343358396\n",
            "\n",
            "k1: 9.950000314464921\n",
            "k2: 9.924937341380625\n",
            "xi:  9.974968710740466\n",
            "\n",
            "k1: 9.925000472295196\n",
            "k2: 9.8999373397894\n",
            "xi:  14.943703124701852\n",
            "\n",
            "k1: 9.90000063052805\n",
            "k2: 9.874937337792536\n",
            "xi:  19.899937577723\n",
            "\n",
            "k1: 9.87500078916655\n",
            "k2: 9.84993733538694\n",
            "xi:  24.843672069803148\n",
            "\n",
            "k1: 9.850000948213792\n",
            "k2: 9.824937332569482\n",
            "xi:  29.77490660094152\n",
            "\n",
            "k1: 9.825001107672902\n",
            "k2: 9.799937329337002\n",
            "xi:  34.69364117113734\n",
            "\n",
            "k1: 9.800001267547044\n",
            "k2: 9.77493732568631\n",
            "xi:  39.59987578038981\n",
            "\n",
            "k1: 9.775001427839404\n",
            "k2: 9.749937321614176\n",
            "xi:  44.49361042869815\n",
            "\n",
            "resultado:  49.37484511606154\n",
            "\n",
            "#--- solução ---#\n",
            "\n",
            "v(5) =  49.37484511606154\n"
          ],
          "name": "stdout"
        }
      ]
    },
    {
      "cell_type": "markdown",
      "metadata": {
        "id": "-ugqcX2pbGA9",
        "colab_type": "text"
      },
      "source": [
        "### Runge-Kutter 4ª ordem \n",
        "Comapração: [Wolfram](https://www.wolframalpha.com/input/?i=fourth-order+Runge-Kutta+method+y%27+%3D+%282000+-+2y%29+%2F+%28200+-+t%29%2C+y%280%29+%3D+0%2C+from+0+to+5)"
      ]
    },
    {
      "cell_type": "code",
      "metadata": {
        "id": "PYXRBUiyXai6",
        "colab_type": "code",
        "colab": {
          "base_uri": "https://localhost:8080/",
          "height": 676
        },
        "outputId": "9d89da61-856a-4a4b-d78f-3b29ab151250"
      },
      "source": [
        "def rk_4( f, x0, t ):\n",
        "'''\n",
        "  \t- Parametros: \n",
        "\t\tf: função a ser resolucionada\n",
        "\t\tx0: valor inicial y(0)\n",
        "\t\tt: intervalo a ser analisado\n",
        "\t- Saída:\n",
        "\t\tvetor com os valores p cada valor do intervalo analisado\n",
        "'''\n",
        "    n = len(t)\n",
        "    x = np.array([float(x0)] * n)\n",
        "    for i in range(n - 1):\n",
        "      h = 0.5 \n",
        "      k1 = f(x[i], t[i])\n",
        "\n",
        "      k2 = f(x[i] + k1*(h/2), t[i] + h/2)\n",
        "\n",
        "      k3 = f(x[i] + k2*(h/2), t[i] + h/2)\n",
        "\n",
        "      k4 = f(x[i] + k3*h, t[i]+h)\n",
        "      \n",
        "      print('\\nk1: ', k1, ' k2: ', k2, ' k3:', k3, ' k4: ', k4)\n",
        "      # assumindo K = 1/6(k1 + 2k2 + 2k3 + k4)\n",
        "      k = (k1+2*k2+2*k3+k4)/6\n",
        "      x[i+1] = x[i] + h*k\n",
        "      print('yi: ', x[i])\n",
        "    print('\\nresultado: ', x[10])\n",
        "    return x\n",
        "\n",
        "sol_rk = rk_4(v_linha, x0, t)\n",
        "print(\"\\n#--- solução ---#\")\n",
        "print('\\nv(5) = ', sol_rk[10])"
      ],
      "execution_count": null,
      "outputs": [
        {
          "output_type": "stream",
          "text": [
            "\n",
            "k1:  10.0  k2:  9.987484355444305  k3: 9.987515683716033  k4:  9.974999921384882\n",
            "yi:  0.0\n",
            "\n",
            "k1:  9.975000000000247  k2:  9.962484316185941  k3: 9.962515723171675  k4:  9.949999920989335\n",
            "yi:  4.9937499999754635\n",
            "\n",
            "k1:  9.950000000000493  k2:  9.937484276730054  k3: 9.937515762826331  k4:  9.92499992059079\n",
            "yi:  9.974999999950864\n",
            "\n",
            "k1:  9.925000000000743  k2:  9.912484237075143  k3: 9.912515802681513  k4:  9.899999920189224\n",
            "yi:  14.943749999926201\n",
            "\n",
            "k1:  9.900000000000995  k2:  9.887484197219704  k3: 9.887515842738747  k4:  9.8749999197846\n",
            "yi:  19.899999999901475\n",
            "\n",
            "k1:  9.875000000001249  k2:  9.86248415716221  k3: 9.862515882999572  k4:  9.84999991937689\n",
            "yi:  24.84374999987668\n",
            "\n",
            "k1:  9.850000000001504  k2:  9.837484116901122  k3: 9.837515923465544  k4:  9.824999918966059\n",
            "yi:  29.774999999851822\n",
            "\n",
            "k1:  9.825000000001761  k2:  9.812484076434881  k3: 9.812515964138235  k4:  9.79999991855208\n",
            "yi:  34.6937499998269\n",
            "\n",
            "k1:  9.800000000002022  k2:  9.787484035761917  k3: 9.787516005019235  k4:  9.77499991813492\n",
            "yi:  39.5999999998019\n",
            "\n",
            "k1:  9.775000000002283  k2:  9.762483994880641  k3: 9.762516046110147  k4:  9.749999917714545\n",
            "yi:  44.49374999977684\n",
            "\n",
            "resultado:  49.37499999975171\n",
            "\n",
            "#--- solução ---#\n",
            "\n",
            "v(5) =  49.37499999975171\n"
          ],
          "name": "stdout"
        }
      ]
    },
    {
      "cell_type": "markdown",
      "metadata": {
        "id": "HX8H6fEpVZ3Y",
        "colab_type": "text"
      },
      "source": [
        "### Comparação dos métodos"
      ]
    },
    {
      "cell_type": "code",
      "metadata": {
        "id": "0u99v89wMz-D",
        "colab_type": "code",
        "colab": {
          "base_uri": "https://localhost:8080/",
          "height": 301
        },
        "outputId": "646132e7-d073-4c19-b76b-b130629bfd39"
      },
      "source": [
        "def v_t(t):\n",
        "  return (10*t) - ((t**2)/40)\n",
        "\n",
        "# METODO DE EULER APRIMORADO (HEUN)\n",
        "\n",
        "print(\"\\t\\t# ---- METODO DE EULER APRIMORADO ---- #\\n\")\n",
        "print('Solução exata: ', v_t(5))\n",
        "print('Aproximação pelo método: ', heun[10])\n",
        "\n",
        "print(\"\\n# --- ERRO ABSOLUTO --- #\")\n",
        "e_abs = abs(v_t(5) - heun[10])\n",
        "print(\"EA = \", e_abs)\n",
        "\n",
        "# METODO DE RUNGE-KUTTER DE QUARTA ORDEM\n",
        "\n",
        "print(\"\\n\\n\\t\\t# ---- METODO DE RK - 4ª ORDEM ---- #\\n\")\n",
        "print('Solução exata: ', v_t(5))\n",
        "print('Aproximação pelo método: ', sol_rk[10])\n",
        "\n",
        "print(\"\\n# --- ERRO ABSOLUTO --- #\")\n",
        "e_abs = abs(v_t(5) - sol_rk[10])\n",
        "print(\"EA = \", e_abs)"
      ],
      "execution_count": null,
      "outputs": [
        {
          "output_type": "stream",
          "text": [
            "\t\t# ---- METODO DE EULER APRIMORADO ---- #\n",
            "\n",
            "Solução exata:  49.375\n",
            "Aproximação pelo método:  49.37484511606154\n",
            "\n",
            "# --- ERRO ABSOLUTO --- #\n",
            "EA =  0.00015488393845686232\n",
            "\n",
            "\n",
            "\t\t# ---- METODO DE RK - 4ª ORDEM ---- #\n",
            "\n",
            "Solução exata:  49.375\n",
            "Aproximação pelo método:  49.37499999975171\n",
            "\n",
            "# --- ERRO ABSOLUTO --- #\n",
            "EA =  2.482920535840094e-10\n"
          ],
          "name": "stdout"
        }
      ]
    },
    {
      "cell_type": "code",
      "metadata": {
        "id": "XhbcPxnvM6Up",
        "colab_type": "code",
        "colab": {}
      },
      "source": [
        ""
      ],
      "execution_count": null,
      "outputs": []
    },
    {
      "cell_type": "markdown",
      "metadata": {
        "id": "DIPxPw1N3A4v",
        "colab_type": "text"
      },
      "source": [
        "## Questão 4"
      ]
    },
    {
      "cell_type": "code",
      "metadata": {
        "id": "DIGL0Esj3CCZ",
        "colab_type": "code",
        "colab": {}
      },
      "source": [
        "# Dados da questão\n",
        "# y'(t) = k (m-y(t)) y(t), então:\n",
        "# y'(t) = (km - ky(t))y(t) \n",
        "# y'(t) = kmy(t) - ky(t)² \n",
        "# y'(t) = 0.2y(t) - 0,000002y(t)²\n",
        "\n",
        "def y_linha(y, t):\n",
        "  y_linha = 0.2*y - 0.000002*(y**2)\n",
        "  return y_linha\n",
        "\n",
        "y0 = 1000\n",
        "a = 0\n",
        "b = 5\n",
        "y = np.linspace(a, b, 11)"
      ],
      "execution_count": null,
      "outputs": []
    },
    {
      "cell_type": "code",
      "metadata": {
        "id": "Ml5c8ztc5aTL",
        "colab_type": "code",
        "colab": {
          "base_uri": "https://localhost:8080/",
          "height": 676
        },
        "outputId": "b02a5948-6bbc-45b2-e177-a61cc0aefaad"
      },
      "source": [
        "# RUNGE KUTTA - 4ª ORDEM\n",
        "sol_rk_4 = rk_4(y_linha, y0, y)\n",
        "print(\"\\n#--- solução ---#\")\n",
        "print('\\nNum de contaminados pra 5 dias = ', sol_rk_4[10])"
      ],
      "execution_count": null,
      "outputs": [
        {
          "output_type": "stream",
          "text": [
            "\n",
            "k1:  198.0  k2:  207.6970995  k3: 208.17176561485743  k4:  218.37916528825647\n",
            "yi:  1000.0\n",
            "\n",
            "k1:  218.3642732408925  k2:  229.03545024865025  k3: 229.55663123046523  k4:  240.78672272635433\n",
            "yi:  1104.0097412931643\n",
            "\n",
            "k1:  240.7703870477698  k2:  252.50823218762255  k3: 253.08009572832057  k4:  265.42951223218944\n",
            "yi:  1218.7043378702874\n",
            "\n",
            "k1:  265.4116069528625  k2:  278.31636282949916  k3: 278.9433646756077  k4:  292.5165960560139\n",
            "yi:  1345.152384129608\n",
            "\n",
            "k1:  292.49698725210834  k2:  306.67692379224127  k3: 307.363808145995  k4:  322.2735545126011\n",
            "yi:  1484.5230222978655\n",
            "\n",
            "k1:  322.2521004987365  k2:  337.82384548198746  k3: 338.57563993198136  k4:  354.94311029590216\n",
            "yi:  1638.094022767964\n",
            "\n",
            "k1:  354.9196620199254  k2:  372.0084669441226  k3: 372.83047048162564  k4:  390.7856044435232\n",
            "yi:  1807.2602045698452\n",
            "\n",
            "k1:  390.7600061303574  k2:  409.49992322795913  k3: 410.3976856679445  k4:  430.0792714116111\n",
            "yi:  1993.5421330127574\n",
            "\n",
            "k1:  430.0513615096836  k2:  450.58530278703876  k3: 451.56459366243325  k4:  473.12025026231026\n",
            "yi:  2198.5950076239055\n",
            "\n",
            "k1:  473.08986275234696  k2:  495.5695063543429  k3: 496.6362710965525  k4:  520.2222572662228\n",
            "yi:  2424.217624679817\n",
            "\n",
            "resultado:  2672.361264256514\n",
            "\n",
            "#--- solução ---#\n",
            "\n",
            "Num de contaminados pra 5 dias =  2672.361264256514\n"
          ],
          "name": "stdout"
        }
      ]
    },
    {
      "cell_type": "code",
      "metadata": {
        "id": "d34fBT9N5j5a",
        "colab_type": "code",
        "colab": {}
      },
      "source": [
        ""
      ],
      "execution_count": null,
      "outputs": []
    }
  ]
}
