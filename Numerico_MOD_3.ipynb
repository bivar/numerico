{
  "nbformat": 4,
  "nbformat_minor": 0,
  "metadata": {
    "colab": {
      "name": "Numerico - MOD 3.ipynb",
      "provenance": [],
      "authorship_tag": "ABX9TyOuJ1me9co5W5+Lmm1W0hyC",
      "include_colab_link": true
    },
    "kernelspec": {
      "name": "python3",
      "display_name": "Python 3"
    }
  },
  "cells": [
    {
      "cell_type": "markdown",
      "metadata": {
        "id": "view-in-github",
        "colab_type": "text"
      },
      "source": [
        "<a href=\"https://colab.research.google.com/github/bivar/numerico/blob/master/Numerico_MOD_3.ipynb\" target=\"_parent\"><img src=\"https://colab.research.google.com/assets/colab-badge.svg\" alt=\"Open In Colab\"/></a>"
      ]
    },
    {
      "cell_type": "markdown",
      "metadata": {
        "id": "hWC-1LsZOfib",
        "colab_type": "text"
      },
      "source": [
        "## Imports "
      ]
    },
    {
      "cell_type": "markdown",
      "metadata": {
        "id": "KM3YRap7OkHr",
        "colab_type": "text"
      },
      "source": [
        "### Coisitas\n",
        " - [Trapézio e Simpson](http://alfanumericus.blogspot.com/2017/02/python-integracao-numerica-com-regra-de.html)"
      ]
    },
    {
      "cell_type": "code",
      "metadata": {
        "id": "mlKtvLYXM3bv",
        "colab_type": "code",
        "colab": {}
      },
      "source": [
        "import matplotlib.pyplot as plt\n",
        "import numpy"
      ],
      "execution_count": null,
      "outputs": []
    },
    {
      "cell_type": "markdown",
      "metadata": {
        "id": "kJMTVBknNlIz",
        "colab_type": "text"
      },
      "source": [
        "## Regra do Trapézio Simples"
      ]
    },
    {
      "cell_type": "code",
      "metadata": {
        "id": "fJhwdvyjM-PP",
        "colab_type": "code",
        "colab": {}
      },
      "source": [
        "def trap(f, a, b, n):\n",
        "    h = (b - a) / float(n)\n",
        "    sum = (f(a) + f(b)) / 2\n",
        "    for i in range(n):\n",
        "        x = a + i * h\n",
        "        sum += f(x)\n",
        "        print(\"x(i) = \", x, '|| f(xi) =', f(x))\n",
        "    return sum * h"
      ],
      "execution_count": null,
      "outputs": []
    },
    {
      "cell_type": "markdown",
      "metadata": {
        "id": "OA1mP4U0NqG7",
        "colab_type": "text"
      },
      "source": [
        "## Regra do Trapézio Composta"
      ]
    },
    {
      "cell_type": "code",
      "metadata": {
        "id": "VvEyCsHeNrrM",
        "colab_type": "code",
        "colab": {}
      },
      "source": [
        ""
      ],
      "execution_count": null,
      "outputs": []
    }
  ]
}